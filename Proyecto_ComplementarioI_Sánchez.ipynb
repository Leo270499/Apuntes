{
  "nbformat": 4,
  "nbformat_minor": 0,
  "metadata": {
    "colab": {
      "provenance": [],
      "toc_visible": true,
      "authorship_tag": "ABX9TyNmGdnFP32PA+CbPUUon+hh",
      "include_colab_link": true
    },
    "kernelspec": {
      "name": "python3",
      "display_name": "Python 3"
    },
    "language_info": {
      "name": "python"
    }
  },
  "cells": [
    {
      "cell_type": "markdown",
      "metadata": {
        "id": "view-in-github",
        "colab_type": "text"
      },
      "source": [
        "<a href=\"https://colab.research.google.com/github/Leo270499/Apuntes/blob/main/Proyecto_ComplementarioI_S%C3%A1nchez.ipynb\" target=\"_parent\"><img src=\"https://colab.research.google.com/assets/colab-badge.svg\" alt=\"Open In Colab\"/></a>"
      ]
    },
    {
      "cell_type": "markdown",
      "source": [
        "# Quinto desafío | Práctica Integradora DS"
      ],
      "metadata": {
        "id": "AUA8Ia1nGAYM"
      }
    },
    {
      "cell_type": "markdown",
      "source": [
        "## 1 | Introducción\n",
        "Para esta práctica dirigida he tomado como dataset `customer.csv` que me permitira trabajar algoritmos de machine learning de clasificación."
      ],
      "metadata": {
        "id": "2eDh03-_QaYT"
      }
    },
    {
      "cell_type": "markdown",
      "source": [
        "### Abstract"
      ],
      "metadata": {
        "id": "qqsIs_e0SkkA"
      }
    },
    {
      "cell_type": "markdown",
      "source": [
        "El presente dataset tiene como objetivo predecir el valor de `churn`, que significa si la persona se retiro o continua con la compañia de telecomunicaciones."
      ],
      "metadata": {
        "id": "uVacPSWAGduS"
      }
    },
    {
      "cell_type": "markdown",
      "source": [
        "*   `Mayor60Años`\n",
        "*   `Conyuge`\n",
        "*   `Dependientes`\n",
        "*   `MesesDeContrato`\n",
        "*   `TelefonoFijo`\n",
        "*   `VariasLineasTelefonicas`\n",
        "*   `ServicioDeInternet`\n",
        "*   `SeguridadOnline`\n",
        "*   `SeguroEnDispositivo`\n",
        "*   `SoporteTecnico`\n",
        "*   `TVCable`\n",
        "*   `Streaming`\n",
        "*   `TipoDeContrato`\n",
        "*   `PagoOnline`\n",
        "*   `FormaDePago`\n",
        "*   `CuentaMensual`\n",
        "*   `Churn`\n"
      ],
      "metadata": {
        "id": "HEjkWzRwTCwP"
      }
    },
    {
      "cell_type": "markdown",
      "source": [
        "**Variable Objetivo:** Churn"
      ],
      "metadata": {
        "id": "CEUP8nj_VGde"
      }
    },
    {
      "cell_type": "markdown",
      "source": [
        "### Herramientas y datos"
      ],
      "metadata": {
        "id": "32UHNFDrSsJH"
      }
    },
    {
      "cell_type": "markdown",
      "source": [
        "**Librerias**"
      ],
      "metadata": {
        "id": "gVs769D3Sy9f"
      }
    },
    {
      "cell_type": "code",
      "source": [
        "# Codigo para trabajar con Google Drive\n",
        "from google.colab import drive\n",
        "drive.mount('/content/drive')"
      ],
      "metadata": {
        "colab": {
          "base_uri": "https://localhost:8080/"
        },
        "id": "DGVYgPHGAK3h",
        "outputId": "c2b87390-0b28-483a-9dc0-d49521cd2264"
      },
      "execution_count": 1,
      "outputs": [
        {
          "output_type": "stream",
          "name": "stdout",
          "text": [
            "Drive already mounted at /content/drive; to attempt to forcibly remount, call drive.mount(\"/content/drive\", force_remount=True).\n"
          ]
        }
      ]
    },
    {
      "cell_type": "code",
      "source": [
        "# Librerias\n",
        "import pandas as pd\n",
        "import numpy as np\n",
        "import math\n",
        "import matplotlib.pyplot as plt\n",
        "import seaborn as sns"
      ],
      "metadata": {
        "id": "rWW5m0J7AM9j"
      },
      "execution_count": 2,
      "outputs": []
    },
    {
      "cell_type": "markdown",
      "source": [
        "**Dataset**"
      ],
      "metadata": {
        "id": "Tf-IRY4sSplG"
      }
    },
    {
      "cell_type": "code",
      "source": [
        "PATH = \"/content/drive/MyDrive/Quinto Desafío (Data Science)/Customer.csv\"\n",
        "df = pd.read_csv(PATH)"
      ],
      "metadata": {
        "id": "QG20Xv_LANBC"
      },
      "execution_count": 3,
      "outputs": []
    },
    {
      "cell_type": "code",
      "source": [
        "df.sample(5)"
      ],
      "metadata": {
        "colab": {
          "base_uri": "https://localhost:8080/",
          "height": 226
        },
        "id": "P2ZikyBWAND2",
        "outputId": "2644e747-044a-4be0-b1dc-5d04d6789d3b"
      },
      "execution_count": 4,
      "outputs": [
        {
          "output_type": "execute_result",
          "data": {
            "text/plain": [
              "      Mayor60Años Conyuge Dependientes  MesesDeContrato TelefonoFijo  \\\n",
              "6652            0      No           No               36           Si   \n",
              "1975            0      No           No               21           Si   \n",
              "1110            0      No           No               60           No   \n",
              "4740            1      Si           No               24           No   \n",
              "360             0      No           Si                5           Si   \n",
              "\n",
              "     VariasLineasTelefonicas ServicioDeInternet        SeguridadOnline  \\\n",
              "6652                      No                 No  SinServicioDeInternet   \n",
              "1975                      No                 No  SinServicioDeInternet   \n",
              "1110   SinServicioTelefonico                DSL                     Si   \n",
              "4740   SinServicioTelefonico                DSL                     Si   \n",
              "360                       No                 No  SinServicioDeInternet   \n",
              "\n",
              "               BackupOnline    SeguroEnDispositivo         SoporteTecnico  \\\n",
              "6652  SinServicioDeInternet  SinServicioDeInternet  SinServicioDeInternet   \n",
              "1975  SinServicioDeInternet  SinServicioDeInternet  SinServicioDeInternet   \n",
              "1110                     Si                     Si                     No   \n",
              "4740                     No                     No                     No   \n",
              "360   SinServicioDeInternet  SinServicioDeInternet  SinServicioDeInternet   \n",
              "\n",
              "                    TVCable              Streaming TipoDeContrato PagoOnline  \\\n",
              "6652  SinServicioDeInternet  SinServicioDeInternet        DosAños         Si   \n",
              "1975  SinServicioDeInternet  SinServicioDeInternet        DosAños         No   \n",
              "1110                     No                     No        DosAños         No   \n",
              "4740                     No                     Si        Mensual         No   \n",
              "360   SinServicioDeInternet  SinServicioDeInternet        Mensual         No   \n",
              "\n",
              "           FormaDePago  CuentaMensual Churn  \n",
              "6652  TarjetaDeCredito          18.55    No  \n",
              "1975       ChequePapel          19.60    No  \n",
              "1110    DebitoEnCuenta          39.60    No  \n",
              "4740    DebitoEnCuenta          39.10    Si  \n",
              "360        ChequePapel          20.20    No  "
            ],
            "text/html": [
              "\n",
              "  <div id=\"df-c88a548c-345d-4011-9e0d-0d4f9948b2f5\" class=\"colab-df-container\">\n",
              "    <div>\n",
              "<style scoped>\n",
              "    .dataframe tbody tr th:only-of-type {\n",
              "        vertical-align: middle;\n",
              "    }\n",
              "\n",
              "    .dataframe tbody tr th {\n",
              "        vertical-align: top;\n",
              "    }\n",
              "\n",
              "    .dataframe thead th {\n",
              "        text-align: right;\n",
              "    }\n",
              "</style>\n",
              "<table border=\"1\" class=\"dataframe\">\n",
              "  <thead>\n",
              "    <tr style=\"text-align: right;\">\n",
              "      <th></th>\n",
              "      <th>Mayor60Años</th>\n",
              "      <th>Conyuge</th>\n",
              "      <th>Dependientes</th>\n",
              "      <th>MesesDeContrato</th>\n",
              "      <th>TelefonoFijo</th>\n",
              "      <th>VariasLineasTelefonicas</th>\n",
              "      <th>ServicioDeInternet</th>\n",
              "      <th>SeguridadOnline</th>\n",
              "      <th>BackupOnline</th>\n",
              "      <th>SeguroEnDispositivo</th>\n",
              "      <th>SoporteTecnico</th>\n",
              "      <th>TVCable</th>\n",
              "      <th>Streaming</th>\n",
              "      <th>TipoDeContrato</th>\n",
              "      <th>PagoOnline</th>\n",
              "      <th>FormaDePago</th>\n",
              "      <th>CuentaMensual</th>\n",
              "      <th>Churn</th>\n",
              "    </tr>\n",
              "  </thead>\n",
              "  <tbody>\n",
              "    <tr>\n",
              "      <th>6652</th>\n",
              "      <td>0</td>\n",
              "      <td>No</td>\n",
              "      <td>No</td>\n",
              "      <td>36</td>\n",
              "      <td>Si</td>\n",
              "      <td>No</td>\n",
              "      <td>No</td>\n",
              "      <td>SinServicioDeInternet</td>\n",
              "      <td>SinServicioDeInternet</td>\n",
              "      <td>SinServicioDeInternet</td>\n",
              "      <td>SinServicioDeInternet</td>\n",
              "      <td>SinServicioDeInternet</td>\n",
              "      <td>SinServicioDeInternet</td>\n",
              "      <td>DosAños</td>\n",
              "      <td>Si</td>\n",
              "      <td>TarjetaDeCredito</td>\n",
              "      <td>18.55</td>\n",
              "      <td>No</td>\n",
              "    </tr>\n",
              "    <tr>\n",
              "      <th>1975</th>\n",
              "      <td>0</td>\n",
              "      <td>No</td>\n",
              "      <td>No</td>\n",
              "      <td>21</td>\n",
              "      <td>Si</td>\n",
              "      <td>No</td>\n",
              "      <td>No</td>\n",
              "      <td>SinServicioDeInternet</td>\n",
              "      <td>SinServicioDeInternet</td>\n",
              "      <td>SinServicioDeInternet</td>\n",
              "      <td>SinServicioDeInternet</td>\n",
              "      <td>SinServicioDeInternet</td>\n",
              "      <td>SinServicioDeInternet</td>\n",
              "      <td>DosAños</td>\n",
              "      <td>No</td>\n",
              "      <td>ChequePapel</td>\n",
              "      <td>19.60</td>\n",
              "      <td>No</td>\n",
              "    </tr>\n",
              "    <tr>\n",
              "      <th>1110</th>\n",
              "      <td>0</td>\n",
              "      <td>No</td>\n",
              "      <td>No</td>\n",
              "      <td>60</td>\n",
              "      <td>No</td>\n",
              "      <td>SinServicioTelefonico</td>\n",
              "      <td>DSL</td>\n",
              "      <td>Si</td>\n",
              "      <td>Si</td>\n",
              "      <td>Si</td>\n",
              "      <td>No</td>\n",
              "      <td>No</td>\n",
              "      <td>No</td>\n",
              "      <td>DosAños</td>\n",
              "      <td>No</td>\n",
              "      <td>DebitoEnCuenta</td>\n",
              "      <td>39.60</td>\n",
              "      <td>No</td>\n",
              "    </tr>\n",
              "    <tr>\n",
              "      <th>4740</th>\n",
              "      <td>1</td>\n",
              "      <td>Si</td>\n",
              "      <td>No</td>\n",
              "      <td>24</td>\n",
              "      <td>No</td>\n",
              "      <td>SinServicioTelefonico</td>\n",
              "      <td>DSL</td>\n",
              "      <td>Si</td>\n",
              "      <td>No</td>\n",
              "      <td>No</td>\n",
              "      <td>No</td>\n",
              "      <td>No</td>\n",
              "      <td>Si</td>\n",
              "      <td>Mensual</td>\n",
              "      <td>No</td>\n",
              "      <td>DebitoEnCuenta</td>\n",
              "      <td>39.10</td>\n",
              "      <td>Si</td>\n",
              "    </tr>\n",
              "    <tr>\n",
              "      <th>360</th>\n",
              "      <td>0</td>\n",
              "      <td>No</td>\n",
              "      <td>Si</td>\n",
              "      <td>5</td>\n",
              "      <td>Si</td>\n",
              "      <td>No</td>\n",
              "      <td>No</td>\n",
              "      <td>SinServicioDeInternet</td>\n",
              "      <td>SinServicioDeInternet</td>\n",
              "      <td>SinServicioDeInternet</td>\n",
              "      <td>SinServicioDeInternet</td>\n",
              "      <td>SinServicioDeInternet</td>\n",
              "      <td>SinServicioDeInternet</td>\n",
              "      <td>Mensual</td>\n",
              "      <td>No</td>\n",
              "      <td>ChequePapel</td>\n",
              "      <td>20.20</td>\n",
              "      <td>No</td>\n",
              "    </tr>\n",
              "  </tbody>\n",
              "</table>\n",
              "</div>\n",
              "    <div class=\"colab-df-buttons\">\n",
              "\n",
              "  <div class=\"colab-df-container\">\n",
              "    <button class=\"colab-df-convert\" onclick=\"convertToInteractive('df-c88a548c-345d-4011-9e0d-0d4f9948b2f5')\"\n",
              "            title=\"Convert this dataframe to an interactive table.\"\n",
              "            style=\"display:none;\">\n",
              "\n",
              "  <svg xmlns=\"http://www.w3.org/2000/svg\" height=\"24px\" viewBox=\"0 -960 960 960\">\n",
              "    <path d=\"M120-120v-720h720v720H120Zm60-500h600v-160H180v160Zm220 220h160v-160H400v160Zm0 220h160v-160H400v160ZM180-400h160v-160H180v160Zm440 0h160v-160H620v160ZM180-180h160v-160H180v160Zm440 0h160v-160H620v160Z\"/>\n",
              "  </svg>\n",
              "    </button>\n",
              "\n",
              "  <style>\n",
              "    .colab-df-container {\n",
              "      display:flex;\n",
              "      gap: 12px;\n",
              "    }\n",
              "\n",
              "    .colab-df-convert {\n",
              "      background-color: #E8F0FE;\n",
              "      border: none;\n",
              "      border-radius: 50%;\n",
              "      cursor: pointer;\n",
              "      display: none;\n",
              "      fill: #1967D2;\n",
              "      height: 32px;\n",
              "      padding: 0 0 0 0;\n",
              "      width: 32px;\n",
              "    }\n",
              "\n",
              "    .colab-df-convert:hover {\n",
              "      background-color: #E2EBFA;\n",
              "      box-shadow: 0px 1px 2px rgba(60, 64, 67, 0.3), 0px 1px 3px 1px rgba(60, 64, 67, 0.15);\n",
              "      fill: #174EA6;\n",
              "    }\n",
              "\n",
              "    .colab-df-buttons div {\n",
              "      margin-bottom: 4px;\n",
              "    }\n",
              "\n",
              "    [theme=dark] .colab-df-convert {\n",
              "      background-color: #3B4455;\n",
              "      fill: #D2E3FC;\n",
              "    }\n",
              "\n",
              "    [theme=dark] .colab-df-convert:hover {\n",
              "      background-color: #434B5C;\n",
              "      box-shadow: 0px 1px 3px 1px rgba(0, 0, 0, 0.15);\n",
              "      filter: drop-shadow(0px 1px 2px rgba(0, 0, 0, 0.3));\n",
              "      fill: #FFFFFF;\n",
              "    }\n",
              "  </style>\n",
              "\n",
              "    <script>\n",
              "      const buttonEl =\n",
              "        document.querySelector('#df-c88a548c-345d-4011-9e0d-0d4f9948b2f5 button.colab-df-convert');\n",
              "      buttonEl.style.display =\n",
              "        google.colab.kernel.accessAllowed ? 'block' : 'none';\n",
              "\n",
              "      async function convertToInteractive(key) {\n",
              "        const element = document.querySelector('#df-c88a548c-345d-4011-9e0d-0d4f9948b2f5');\n",
              "        const dataTable =\n",
              "          await google.colab.kernel.invokeFunction('convertToInteractive',\n",
              "                                                    [key], {});\n",
              "        if (!dataTable) return;\n",
              "\n",
              "        const docLinkHtml = 'Like what you see? Visit the ' +\n",
              "          '<a target=\"_blank\" href=https://colab.research.google.com/notebooks/data_table.ipynb>data table notebook</a>'\n",
              "          + ' to learn more about interactive tables.';\n",
              "        element.innerHTML = '';\n",
              "        dataTable['output_type'] = 'display_data';\n",
              "        await google.colab.output.renderOutput(dataTable, element);\n",
              "        const docLink = document.createElement('div');\n",
              "        docLink.innerHTML = docLinkHtml;\n",
              "        element.appendChild(docLink);\n",
              "      }\n",
              "    </script>\n",
              "  </div>\n",
              "\n",
              "\n",
              "<div id=\"df-a83b6a46-cac8-4a4c-bb7d-c758555a0fd4\">\n",
              "  <button class=\"colab-df-quickchart\" onclick=\"quickchart('df-a83b6a46-cac8-4a4c-bb7d-c758555a0fd4')\"\n",
              "            title=\"Suggest charts.\"\n",
              "            style=\"display:none;\">\n",
              "\n",
              "<svg xmlns=\"http://www.w3.org/2000/svg\" height=\"24px\"viewBox=\"0 0 24 24\"\n",
              "     width=\"24px\">\n",
              "    <g>\n",
              "        <path d=\"M19 3H5c-1.1 0-2 .9-2 2v14c0 1.1.9 2 2 2h14c1.1 0 2-.9 2-2V5c0-1.1-.9-2-2-2zM9 17H7v-7h2v7zm4 0h-2V7h2v10zm4 0h-2v-4h2v4z\"/>\n",
              "    </g>\n",
              "</svg>\n",
              "  </button>\n",
              "\n",
              "<style>\n",
              "  .colab-df-quickchart {\n",
              "    background-color: #E8F0FE;\n",
              "    border: none;\n",
              "    border-radius: 50%;\n",
              "    cursor: pointer;\n",
              "    display: none;\n",
              "    fill: #1967D2;\n",
              "    height: 32px;\n",
              "    padding: 0 0 0 0;\n",
              "    width: 32px;\n",
              "  }\n",
              "\n",
              "  .colab-df-quickchart:hover {\n",
              "    background-color: #E2EBFA;\n",
              "    box-shadow: 0px 1px 2px rgba(60, 64, 67, 0.3), 0px 1px 3px 1px rgba(60, 64, 67, 0.15);\n",
              "    fill: #174EA6;\n",
              "  }\n",
              "\n",
              "  [theme=dark] .colab-df-quickchart {\n",
              "    background-color: #3B4455;\n",
              "    fill: #D2E3FC;\n",
              "  }\n",
              "\n",
              "  [theme=dark] .colab-df-quickchart:hover {\n",
              "    background-color: #434B5C;\n",
              "    box-shadow: 0px 1px 3px 1px rgba(0, 0, 0, 0.15);\n",
              "    filter: drop-shadow(0px 1px 2px rgba(0, 0, 0, 0.3));\n",
              "    fill: #FFFFFF;\n",
              "  }\n",
              "</style>\n",
              "\n",
              "  <script>\n",
              "    async function quickchart(key) {\n",
              "      const charts = await google.colab.kernel.invokeFunction(\n",
              "          'suggestCharts', [key], {});\n",
              "    }\n",
              "    (() => {\n",
              "      let quickchartButtonEl =\n",
              "        document.querySelector('#df-a83b6a46-cac8-4a4c-bb7d-c758555a0fd4 button');\n",
              "      quickchartButtonEl.style.display =\n",
              "        google.colab.kernel.accessAllowed ? 'block' : 'none';\n",
              "    })();\n",
              "  </script>\n",
              "</div>\n",
              "    </div>\n",
              "  </div>\n"
            ]
          },
          "metadata": {},
          "execution_count": 4
        }
      ]
    },
    {
      "cell_type": "markdown",
      "source": [
        "## 2 | Preparación del dataset"
      ],
      "metadata": {
        "id": "ahlu9xguUJfL"
      }
    },
    {
      "cell_type": "code",
      "source": [
        "df.shape"
      ],
      "metadata": {
        "colab": {
          "base_uri": "https://localhost:8080/"
        },
        "id": "RBfdYFWiANGc",
        "outputId": "67a2a58c-5b79-4d35-c528-2fcfe1da0cfe"
      },
      "execution_count": 5,
      "outputs": [
        {
          "output_type": "execute_result",
          "data": {
            "text/plain": [
              "(7043, 18)"
            ]
          },
          "metadata": {},
          "execution_count": 5
        }
      ]
    },
    {
      "cell_type": "code",
      "source": [
        "#Modificación de forma manual\n",
        "diccionario = {'Si': 1,\n",
        "                'No': 0}\n",
        "\n",
        "dfmodificado = df[['Conyuge', 'Dependientes', 'TelefonoFijo', 'PagoOnline', 'Churn']].replace(diccionario)\n",
        "dfmodificado.head()"
      ],
      "metadata": {
        "colab": {
          "base_uri": "https://localhost:8080/",
          "height": 206
        },
        "id": "75Qg2FqYGw3f",
        "outputId": "861da17e-40c0-426a-a856-faac0636e1e4"
      },
      "execution_count": 6,
      "outputs": [
        {
          "output_type": "execute_result",
          "data": {
            "text/plain": [
              "   Conyuge  Dependientes  TelefonoFijo  PagoOnline  Churn\n",
              "0        1             0             0           1      0\n",
              "1        0             0             1           0      0\n",
              "2        0             0             1           1      1\n",
              "3        0             0             0           0      0\n",
              "4        0             0             1           1      1"
            ],
            "text/html": [
              "\n",
              "  <div id=\"df-0517911b-a7e6-4275-9a53-469ef1c278b3\" class=\"colab-df-container\">\n",
              "    <div>\n",
              "<style scoped>\n",
              "    .dataframe tbody tr th:only-of-type {\n",
              "        vertical-align: middle;\n",
              "    }\n",
              "\n",
              "    .dataframe tbody tr th {\n",
              "        vertical-align: top;\n",
              "    }\n",
              "\n",
              "    .dataframe thead th {\n",
              "        text-align: right;\n",
              "    }\n",
              "</style>\n",
              "<table border=\"1\" class=\"dataframe\">\n",
              "  <thead>\n",
              "    <tr style=\"text-align: right;\">\n",
              "      <th></th>\n",
              "      <th>Conyuge</th>\n",
              "      <th>Dependientes</th>\n",
              "      <th>TelefonoFijo</th>\n",
              "      <th>PagoOnline</th>\n",
              "      <th>Churn</th>\n",
              "    </tr>\n",
              "  </thead>\n",
              "  <tbody>\n",
              "    <tr>\n",
              "      <th>0</th>\n",
              "      <td>1</td>\n",
              "      <td>0</td>\n",
              "      <td>0</td>\n",
              "      <td>1</td>\n",
              "      <td>0</td>\n",
              "    </tr>\n",
              "    <tr>\n",
              "      <th>1</th>\n",
              "      <td>0</td>\n",
              "      <td>0</td>\n",
              "      <td>1</td>\n",
              "      <td>0</td>\n",
              "      <td>0</td>\n",
              "    </tr>\n",
              "    <tr>\n",
              "      <th>2</th>\n",
              "      <td>0</td>\n",
              "      <td>0</td>\n",
              "      <td>1</td>\n",
              "      <td>1</td>\n",
              "      <td>1</td>\n",
              "    </tr>\n",
              "    <tr>\n",
              "      <th>3</th>\n",
              "      <td>0</td>\n",
              "      <td>0</td>\n",
              "      <td>0</td>\n",
              "      <td>0</td>\n",
              "      <td>0</td>\n",
              "    </tr>\n",
              "    <tr>\n",
              "      <th>4</th>\n",
              "      <td>0</td>\n",
              "      <td>0</td>\n",
              "      <td>1</td>\n",
              "      <td>1</td>\n",
              "      <td>1</td>\n",
              "    </tr>\n",
              "  </tbody>\n",
              "</table>\n",
              "</div>\n",
              "    <div class=\"colab-df-buttons\">\n",
              "\n",
              "  <div class=\"colab-df-container\">\n",
              "    <button class=\"colab-df-convert\" onclick=\"convertToInteractive('df-0517911b-a7e6-4275-9a53-469ef1c278b3')\"\n",
              "            title=\"Convert this dataframe to an interactive table.\"\n",
              "            style=\"display:none;\">\n",
              "\n",
              "  <svg xmlns=\"http://www.w3.org/2000/svg\" height=\"24px\" viewBox=\"0 -960 960 960\">\n",
              "    <path d=\"M120-120v-720h720v720H120Zm60-500h600v-160H180v160Zm220 220h160v-160H400v160Zm0 220h160v-160H400v160ZM180-400h160v-160H180v160Zm440 0h160v-160H620v160ZM180-180h160v-160H180v160Zm440 0h160v-160H620v160Z\"/>\n",
              "  </svg>\n",
              "    </button>\n",
              "\n",
              "  <style>\n",
              "    .colab-df-container {\n",
              "      display:flex;\n",
              "      gap: 12px;\n",
              "    }\n",
              "\n",
              "    .colab-df-convert {\n",
              "      background-color: #E8F0FE;\n",
              "      border: none;\n",
              "      border-radius: 50%;\n",
              "      cursor: pointer;\n",
              "      display: none;\n",
              "      fill: #1967D2;\n",
              "      height: 32px;\n",
              "      padding: 0 0 0 0;\n",
              "      width: 32px;\n",
              "    }\n",
              "\n",
              "    .colab-df-convert:hover {\n",
              "      background-color: #E2EBFA;\n",
              "      box-shadow: 0px 1px 2px rgba(60, 64, 67, 0.3), 0px 1px 3px 1px rgba(60, 64, 67, 0.15);\n",
              "      fill: #174EA6;\n",
              "    }\n",
              "\n",
              "    .colab-df-buttons div {\n",
              "      margin-bottom: 4px;\n",
              "    }\n",
              "\n",
              "    [theme=dark] .colab-df-convert {\n",
              "      background-color: #3B4455;\n",
              "      fill: #D2E3FC;\n",
              "    }\n",
              "\n",
              "    [theme=dark] .colab-df-convert:hover {\n",
              "      background-color: #434B5C;\n",
              "      box-shadow: 0px 1px 3px 1px rgba(0, 0, 0, 0.15);\n",
              "      filter: drop-shadow(0px 1px 2px rgba(0, 0, 0, 0.3));\n",
              "      fill: #FFFFFF;\n",
              "    }\n",
              "  </style>\n",
              "\n",
              "    <script>\n",
              "      const buttonEl =\n",
              "        document.querySelector('#df-0517911b-a7e6-4275-9a53-469ef1c278b3 button.colab-df-convert');\n",
              "      buttonEl.style.display =\n",
              "        google.colab.kernel.accessAllowed ? 'block' : 'none';\n",
              "\n",
              "      async function convertToInteractive(key) {\n",
              "        const element = document.querySelector('#df-0517911b-a7e6-4275-9a53-469ef1c278b3');\n",
              "        const dataTable =\n",
              "          await google.colab.kernel.invokeFunction('convertToInteractive',\n",
              "                                                    [key], {});\n",
              "        if (!dataTable) return;\n",
              "\n",
              "        const docLinkHtml = 'Like what you see? Visit the ' +\n",
              "          '<a target=\"_blank\" href=https://colab.research.google.com/notebooks/data_table.ipynb>data table notebook</a>'\n",
              "          + ' to learn more about interactive tables.';\n",
              "        element.innerHTML = '';\n",
              "        dataTable['output_type'] = 'display_data';\n",
              "        await google.colab.output.renderOutput(dataTable, element);\n",
              "        const docLink = document.createElement('div');\n",
              "        docLink.innerHTML = docLinkHtml;\n",
              "        element.appendChild(docLink);\n",
              "      }\n",
              "    </script>\n",
              "  </div>\n",
              "\n",
              "\n",
              "<div id=\"df-31ab8883-f8a3-47c0-9807-c062c14f8dc4\">\n",
              "  <button class=\"colab-df-quickchart\" onclick=\"quickchart('df-31ab8883-f8a3-47c0-9807-c062c14f8dc4')\"\n",
              "            title=\"Suggest charts.\"\n",
              "            style=\"display:none;\">\n",
              "\n",
              "<svg xmlns=\"http://www.w3.org/2000/svg\" height=\"24px\"viewBox=\"0 0 24 24\"\n",
              "     width=\"24px\">\n",
              "    <g>\n",
              "        <path d=\"M19 3H5c-1.1 0-2 .9-2 2v14c0 1.1.9 2 2 2h14c1.1 0 2-.9 2-2V5c0-1.1-.9-2-2-2zM9 17H7v-7h2v7zm4 0h-2V7h2v10zm4 0h-2v-4h2v4z\"/>\n",
              "    </g>\n",
              "</svg>\n",
              "  </button>\n",
              "\n",
              "<style>\n",
              "  .colab-df-quickchart {\n",
              "    background-color: #E8F0FE;\n",
              "    border: none;\n",
              "    border-radius: 50%;\n",
              "    cursor: pointer;\n",
              "    display: none;\n",
              "    fill: #1967D2;\n",
              "    height: 32px;\n",
              "    padding: 0 0 0 0;\n",
              "    width: 32px;\n",
              "  }\n",
              "\n",
              "  .colab-df-quickchart:hover {\n",
              "    background-color: #E2EBFA;\n",
              "    box-shadow: 0px 1px 2px rgba(60, 64, 67, 0.3), 0px 1px 3px 1px rgba(60, 64, 67, 0.15);\n",
              "    fill: #174EA6;\n",
              "  }\n",
              "\n",
              "  [theme=dark] .colab-df-quickchart {\n",
              "    background-color: #3B4455;\n",
              "    fill: #D2E3FC;\n",
              "  }\n",
              "\n",
              "  [theme=dark] .colab-df-quickchart:hover {\n",
              "    background-color: #434B5C;\n",
              "    box-shadow: 0px 1px 3px 1px rgba(0, 0, 0, 0.15);\n",
              "    filter: drop-shadow(0px 1px 2px rgba(0, 0, 0, 0.3));\n",
              "    fill: #FFFFFF;\n",
              "  }\n",
              "</style>\n",
              "\n",
              "  <script>\n",
              "    async function quickchart(key) {\n",
              "      const charts = await google.colab.kernel.invokeFunction(\n",
              "          'suggestCharts', [key], {});\n",
              "    }\n",
              "    (() => {\n",
              "      let quickchartButtonEl =\n",
              "        document.querySelector('#df-31ab8883-f8a3-47c0-9807-c062c14f8dc4 button');\n",
              "      quickchartButtonEl.style.display =\n",
              "        google.colab.kernel.accessAllowed ? 'block' : 'none';\n",
              "    })();\n",
              "  </script>\n",
              "</div>\n",
              "    </div>\n",
              "  </div>\n"
            ]
          },
          "metadata": {},
          "execution_count": 6
        }
      ]
    },
    {
      "cell_type": "code",
      "source": [
        "#Transformación con get_dummies\n",
        "dummie_df= pd.get_dummies(df.drop(['Conyuge', 'Dependientes', 'TelefonoFijo', 'PagoOnline', 'Churn'],\n",
        "                axis=1))\n",
        "\n",
        "#Unión de los datos transformados con los que ya teníamos\n",
        "df_final = pd.concat([dfmodificado, dummie_df], axis=1)"
      ],
      "metadata": {
        "id": "cSMZE4e6HGSo"
      },
      "execution_count": 7,
      "outputs": []
    },
    {
      "cell_type": "code",
      "source": [
        "df_final.head()"
      ],
      "metadata": {
        "colab": {
          "base_uri": "https://localhost:8080/",
          "height": 255
        },
        "id": "s-X-NZBKHQeW",
        "outputId": "6b63521d-6b97-496e-d233-07d7880333b5"
      },
      "execution_count": 8,
      "outputs": [
        {
          "output_type": "execute_result",
          "data": {
            "text/plain": [
              "   Conyuge  Dependientes  TelefonoFijo  PagoOnline  Churn  Mayor60Años  \\\n",
              "0        1             0             0           1      0            0   \n",
              "1        0             0             1           0      0            0   \n",
              "2        0             0             1           1      1            0   \n",
              "3        0             0             0           0      0            0   \n",
              "4        0             0             1           1      1            0   \n",
              "\n",
              "   MesesDeContrato  CuentaMensual  VariasLineasTelefonicas_No  \\\n",
              "0                1          29.85                           0   \n",
              "1               34          56.95                           1   \n",
              "2                2          53.85                           1   \n",
              "3               45          42.30                           0   \n",
              "4                2          70.70                           1   \n",
              "\n",
              "   VariasLineasTelefonicas_Si  ...  Streaming_No  Streaming_Si  \\\n",
              "0                           0  ...             1             0   \n",
              "1                           0  ...             1             0   \n",
              "2                           0  ...             1             0   \n",
              "3                           0  ...             1             0   \n",
              "4                           0  ...             1             0   \n",
              "\n",
              "   Streaming_SinServicioDeInternet  TipoDeContrato_DosAños  \\\n",
              "0                                0                       0   \n",
              "1                                0                       0   \n",
              "2                                0                       0   \n",
              "3                                0                       0   \n",
              "4                                0                       0   \n",
              "\n",
              "   TipoDeContrato_Mensual  TipoDeContrato_UnAño  FormaDePago_ChequeDigital  \\\n",
              "0                       1                     0                          1   \n",
              "1                       0                     1                          0   \n",
              "2                       1                     0                          0   \n",
              "3                       0                     1                          0   \n",
              "4                       1                     0                          1   \n",
              "\n",
              "   FormaDePago_ChequePapel  FormaDePago_DebitoEnCuenta  \\\n",
              "0                        0                           0   \n",
              "1                        1                           0   \n",
              "2                        1                           0   \n",
              "3                        0                           1   \n",
              "4                        0                           0   \n",
              "\n",
              "   FormaDePago_TarjetaDeCredito  \n",
              "0                             0  \n",
              "1                             0  \n",
              "2                             0  \n",
              "3                             0  \n",
              "4                             0  \n",
              "\n",
              "[5 rows x 39 columns]"
            ],
            "text/html": [
              "\n",
              "  <div id=\"df-cc6b6dcc-327f-41d4-8c99-6d60f5183b69\" class=\"colab-df-container\">\n",
              "    <div>\n",
              "<style scoped>\n",
              "    .dataframe tbody tr th:only-of-type {\n",
              "        vertical-align: middle;\n",
              "    }\n",
              "\n",
              "    .dataframe tbody tr th {\n",
              "        vertical-align: top;\n",
              "    }\n",
              "\n",
              "    .dataframe thead th {\n",
              "        text-align: right;\n",
              "    }\n",
              "</style>\n",
              "<table border=\"1\" class=\"dataframe\">\n",
              "  <thead>\n",
              "    <tr style=\"text-align: right;\">\n",
              "      <th></th>\n",
              "      <th>Conyuge</th>\n",
              "      <th>Dependientes</th>\n",
              "      <th>TelefonoFijo</th>\n",
              "      <th>PagoOnline</th>\n",
              "      <th>Churn</th>\n",
              "      <th>Mayor60Años</th>\n",
              "      <th>MesesDeContrato</th>\n",
              "      <th>CuentaMensual</th>\n",
              "      <th>VariasLineasTelefonicas_No</th>\n",
              "      <th>VariasLineasTelefonicas_Si</th>\n",
              "      <th>...</th>\n",
              "      <th>Streaming_No</th>\n",
              "      <th>Streaming_Si</th>\n",
              "      <th>Streaming_SinServicioDeInternet</th>\n",
              "      <th>TipoDeContrato_DosAños</th>\n",
              "      <th>TipoDeContrato_Mensual</th>\n",
              "      <th>TipoDeContrato_UnAño</th>\n",
              "      <th>FormaDePago_ChequeDigital</th>\n",
              "      <th>FormaDePago_ChequePapel</th>\n",
              "      <th>FormaDePago_DebitoEnCuenta</th>\n",
              "      <th>FormaDePago_TarjetaDeCredito</th>\n",
              "    </tr>\n",
              "  </thead>\n",
              "  <tbody>\n",
              "    <tr>\n",
              "      <th>0</th>\n",
              "      <td>1</td>\n",
              "      <td>0</td>\n",
              "      <td>0</td>\n",
              "      <td>1</td>\n",
              "      <td>0</td>\n",
              "      <td>0</td>\n",
              "      <td>1</td>\n",
              "      <td>29.85</td>\n",
              "      <td>0</td>\n",
              "      <td>0</td>\n",
              "      <td>...</td>\n",
              "      <td>1</td>\n",
              "      <td>0</td>\n",
              "      <td>0</td>\n",
              "      <td>0</td>\n",
              "      <td>1</td>\n",
              "      <td>0</td>\n",
              "      <td>1</td>\n",
              "      <td>0</td>\n",
              "      <td>0</td>\n",
              "      <td>0</td>\n",
              "    </tr>\n",
              "    <tr>\n",
              "      <th>1</th>\n",
              "      <td>0</td>\n",
              "      <td>0</td>\n",
              "      <td>1</td>\n",
              "      <td>0</td>\n",
              "      <td>0</td>\n",
              "      <td>0</td>\n",
              "      <td>34</td>\n",
              "      <td>56.95</td>\n",
              "      <td>1</td>\n",
              "      <td>0</td>\n",
              "      <td>...</td>\n",
              "      <td>1</td>\n",
              "      <td>0</td>\n",
              "      <td>0</td>\n",
              "      <td>0</td>\n",
              "      <td>0</td>\n",
              "      <td>1</td>\n",
              "      <td>0</td>\n",
              "      <td>1</td>\n",
              "      <td>0</td>\n",
              "      <td>0</td>\n",
              "    </tr>\n",
              "    <tr>\n",
              "      <th>2</th>\n",
              "      <td>0</td>\n",
              "      <td>0</td>\n",
              "      <td>1</td>\n",
              "      <td>1</td>\n",
              "      <td>1</td>\n",
              "      <td>0</td>\n",
              "      <td>2</td>\n",
              "      <td>53.85</td>\n",
              "      <td>1</td>\n",
              "      <td>0</td>\n",
              "      <td>...</td>\n",
              "      <td>1</td>\n",
              "      <td>0</td>\n",
              "      <td>0</td>\n",
              "      <td>0</td>\n",
              "      <td>1</td>\n",
              "      <td>0</td>\n",
              "      <td>0</td>\n",
              "      <td>1</td>\n",
              "      <td>0</td>\n",
              "      <td>0</td>\n",
              "    </tr>\n",
              "    <tr>\n",
              "      <th>3</th>\n",
              "      <td>0</td>\n",
              "      <td>0</td>\n",
              "      <td>0</td>\n",
              "      <td>0</td>\n",
              "      <td>0</td>\n",
              "      <td>0</td>\n",
              "      <td>45</td>\n",
              "      <td>42.30</td>\n",
              "      <td>0</td>\n",
              "      <td>0</td>\n",
              "      <td>...</td>\n",
              "      <td>1</td>\n",
              "      <td>0</td>\n",
              "      <td>0</td>\n",
              "      <td>0</td>\n",
              "      <td>0</td>\n",
              "      <td>1</td>\n",
              "      <td>0</td>\n",
              "      <td>0</td>\n",
              "      <td>1</td>\n",
              "      <td>0</td>\n",
              "    </tr>\n",
              "    <tr>\n",
              "      <th>4</th>\n",
              "      <td>0</td>\n",
              "      <td>0</td>\n",
              "      <td>1</td>\n",
              "      <td>1</td>\n",
              "      <td>1</td>\n",
              "      <td>0</td>\n",
              "      <td>2</td>\n",
              "      <td>70.70</td>\n",
              "      <td>1</td>\n",
              "      <td>0</td>\n",
              "      <td>...</td>\n",
              "      <td>1</td>\n",
              "      <td>0</td>\n",
              "      <td>0</td>\n",
              "      <td>0</td>\n",
              "      <td>1</td>\n",
              "      <td>0</td>\n",
              "      <td>1</td>\n",
              "      <td>0</td>\n",
              "      <td>0</td>\n",
              "      <td>0</td>\n",
              "    </tr>\n",
              "  </tbody>\n",
              "</table>\n",
              "<p>5 rows × 39 columns</p>\n",
              "</div>\n",
              "    <div class=\"colab-df-buttons\">\n",
              "\n",
              "  <div class=\"colab-df-container\">\n",
              "    <button class=\"colab-df-convert\" onclick=\"convertToInteractive('df-cc6b6dcc-327f-41d4-8c99-6d60f5183b69')\"\n",
              "            title=\"Convert this dataframe to an interactive table.\"\n",
              "            style=\"display:none;\">\n",
              "\n",
              "  <svg xmlns=\"http://www.w3.org/2000/svg\" height=\"24px\" viewBox=\"0 -960 960 960\">\n",
              "    <path d=\"M120-120v-720h720v720H120Zm60-500h600v-160H180v160Zm220 220h160v-160H400v160Zm0 220h160v-160H400v160ZM180-400h160v-160H180v160Zm440 0h160v-160H620v160ZM180-180h160v-160H180v160Zm440 0h160v-160H620v160Z\"/>\n",
              "  </svg>\n",
              "    </button>\n",
              "\n",
              "  <style>\n",
              "    .colab-df-container {\n",
              "      display:flex;\n",
              "      gap: 12px;\n",
              "    }\n",
              "\n",
              "    .colab-df-convert {\n",
              "      background-color: #E8F0FE;\n",
              "      border: none;\n",
              "      border-radius: 50%;\n",
              "      cursor: pointer;\n",
              "      display: none;\n",
              "      fill: #1967D2;\n",
              "      height: 32px;\n",
              "      padding: 0 0 0 0;\n",
              "      width: 32px;\n",
              "    }\n",
              "\n",
              "    .colab-df-convert:hover {\n",
              "      background-color: #E2EBFA;\n",
              "      box-shadow: 0px 1px 2px rgba(60, 64, 67, 0.3), 0px 1px 3px 1px rgba(60, 64, 67, 0.15);\n",
              "      fill: #174EA6;\n",
              "    }\n",
              "\n",
              "    .colab-df-buttons div {\n",
              "      margin-bottom: 4px;\n",
              "    }\n",
              "\n",
              "    [theme=dark] .colab-df-convert {\n",
              "      background-color: #3B4455;\n",
              "      fill: #D2E3FC;\n",
              "    }\n",
              "\n",
              "    [theme=dark] .colab-df-convert:hover {\n",
              "      background-color: #434B5C;\n",
              "      box-shadow: 0px 1px 3px 1px rgba(0, 0, 0, 0.15);\n",
              "      filter: drop-shadow(0px 1px 2px rgba(0, 0, 0, 0.3));\n",
              "      fill: #FFFFFF;\n",
              "    }\n",
              "  </style>\n",
              "\n",
              "    <script>\n",
              "      const buttonEl =\n",
              "        document.querySelector('#df-cc6b6dcc-327f-41d4-8c99-6d60f5183b69 button.colab-df-convert');\n",
              "      buttonEl.style.display =\n",
              "        google.colab.kernel.accessAllowed ? 'block' : 'none';\n",
              "\n",
              "      async function convertToInteractive(key) {\n",
              "        const element = document.querySelector('#df-cc6b6dcc-327f-41d4-8c99-6d60f5183b69');\n",
              "        const dataTable =\n",
              "          await google.colab.kernel.invokeFunction('convertToInteractive',\n",
              "                                                    [key], {});\n",
              "        if (!dataTable) return;\n",
              "\n",
              "        const docLinkHtml = 'Like what you see? Visit the ' +\n",
              "          '<a target=\"_blank\" href=https://colab.research.google.com/notebooks/data_table.ipynb>data table notebook</a>'\n",
              "          + ' to learn more about interactive tables.';\n",
              "        element.innerHTML = '';\n",
              "        dataTable['output_type'] = 'display_data';\n",
              "        await google.colab.output.renderOutput(dataTable, element);\n",
              "        const docLink = document.createElement('div');\n",
              "        docLink.innerHTML = docLinkHtml;\n",
              "        element.appendChild(docLink);\n",
              "      }\n",
              "    </script>\n",
              "  </div>\n",
              "\n",
              "\n",
              "<div id=\"df-a1ac9a40-a915-4a5d-bebc-1631fd724c5c\">\n",
              "  <button class=\"colab-df-quickchart\" onclick=\"quickchart('df-a1ac9a40-a915-4a5d-bebc-1631fd724c5c')\"\n",
              "            title=\"Suggest charts.\"\n",
              "            style=\"display:none;\">\n",
              "\n",
              "<svg xmlns=\"http://www.w3.org/2000/svg\" height=\"24px\"viewBox=\"0 0 24 24\"\n",
              "     width=\"24px\">\n",
              "    <g>\n",
              "        <path d=\"M19 3H5c-1.1 0-2 .9-2 2v14c0 1.1.9 2 2 2h14c1.1 0 2-.9 2-2V5c0-1.1-.9-2-2-2zM9 17H7v-7h2v7zm4 0h-2V7h2v10zm4 0h-2v-4h2v4z\"/>\n",
              "    </g>\n",
              "</svg>\n",
              "  </button>\n",
              "\n",
              "<style>\n",
              "  .colab-df-quickchart {\n",
              "    background-color: #E8F0FE;\n",
              "    border: none;\n",
              "    border-radius: 50%;\n",
              "    cursor: pointer;\n",
              "    display: none;\n",
              "    fill: #1967D2;\n",
              "    height: 32px;\n",
              "    padding: 0 0 0 0;\n",
              "    width: 32px;\n",
              "  }\n",
              "\n",
              "  .colab-df-quickchart:hover {\n",
              "    background-color: #E2EBFA;\n",
              "    box-shadow: 0px 1px 2px rgba(60, 64, 67, 0.3), 0px 1px 3px 1px rgba(60, 64, 67, 0.15);\n",
              "    fill: #174EA6;\n",
              "  }\n",
              "\n",
              "  [theme=dark] .colab-df-quickchart {\n",
              "    background-color: #3B4455;\n",
              "    fill: #D2E3FC;\n",
              "  }\n",
              "\n",
              "  [theme=dark] .colab-df-quickchart:hover {\n",
              "    background-color: #434B5C;\n",
              "    box-shadow: 0px 1px 3px 1px rgba(0, 0, 0, 0.15);\n",
              "    filter: drop-shadow(0px 1px 2px rgba(0, 0, 0, 0.3));\n",
              "    fill: #FFFFFF;\n",
              "  }\n",
              "</style>\n",
              "\n",
              "  <script>\n",
              "    async function quickchart(key) {\n",
              "      const charts = await google.colab.kernel.invokeFunction(\n",
              "          'suggestCharts', [key], {});\n",
              "    }\n",
              "    (() => {\n",
              "      let quickchartButtonEl =\n",
              "        document.querySelector('#df-a1ac9a40-a915-4a5d-bebc-1631fd724c5c button');\n",
              "      quickchartButtonEl.style.display =\n",
              "        google.colab.kernel.accessAllowed ? 'block' : 'none';\n",
              "    })();\n",
              "  </script>\n",
              "</div>\n",
              "    </div>\n",
              "  </div>\n"
            ]
          },
          "metadata": {},
          "execution_count": 8
        }
      ]
    },
    {
      "cell_type": "code",
      "source": [
        "Xcliente = [[0,0,1,1,0,0,39.90,1,0,0,0,1,0,1,0,0,0,0,1,1,1,0,0,1,0,1,0,0,0,0,1,0,0,1,0,0,0,1]]"
      ],
      "metadata": {
        "id": "P09ihg0bJpnE"
      },
      "execution_count": 9,
      "outputs": []
    },
    {
      "cell_type": "code",
      "source": [
        "#variable target está desbalanceada\n",
        "import seaborn as sns\n",
        "%matplotlib inline\n",
        "ax = sns.countplot(x='Churn', data=df_final)"
      ],
      "metadata": {
        "colab": {
          "base_uri": "https://localhost:8080/",
          "height": 449
        },
        "id": "7YNqk0WLHY1g",
        "outputId": "b29f1154-939a-4605-8c84-54dd155212e7"
      },
      "execution_count": 10,
      "outputs": [
        {
          "output_type": "display_data",
          "data": {
            "text/plain": [
              "<Figure size 640x480 with 1 Axes>"
            ],
            "image/png": "[encoded data removed]"
          },
          "metadata": {}
        }
      ]
    },
    {
      "cell_type": "code",
      "source": [
        "df_final.Churn.value_counts()"
      ],
      "metadata": {
        "colab": {
          "base_uri": "https://localhost:8080/"
        },
        "id": "eZG6678xIFj3",
        "outputId": "ac3899f3-99cb-4e47-b180-76b455f65da7"
      },
      "execution_count": 11,
      "outputs": [
        {
          "output_type": "execute_result",
          "data": {
            "text/plain": [
              "0    5174\n",
              "1    1869\n",
              "Name: Churn, dtype: int64"
            ]
          },
          "metadata": {},
          "execution_count": 11
        }
      ]
    },
    {
      "cell_type": "markdown",
      "source": [
        "**Balanceo de datos**"
      ],
      "metadata": {
        "id": "GkpmFJ3j25Bv"
      }
    },
    {
      "cell_type": "code",
      "source": [
        "#biblioteca para balancear los datos utilizando over_sampling\n",
        "from imblearn.over_sampling import SMOTE"
      ],
      "metadata": {
        "id": "Wt9_9QWKIk1U"
      },
      "execution_count": 12,
      "outputs": []
    },
    {
      "cell_type": "code",
      "source": [
        "#dividiendo los datos en características y target\n",
        "X = df_final.drop('Churn', axis = 1)\n",
        "y = df_final['Churn']"
      ],
      "metadata": {
        "id": "SmSqZyr7IpA8"
      },
      "execution_count": 13,
      "outputs": []
    },
    {
      "cell_type": "code",
      "source": [
        "smt = SMOTE(random_state=42)\n",
        "X, y = smt.fit_resample(X, y)"
      ],
      "metadata": {
        "id": "BG9XDfvyIsZe"
      },
      "execution_count": 14,
      "outputs": []
    },
    {
      "cell_type": "code",
      "source": [
        "#unión de los datos balanceados\n",
        "df_final = pd.concat([X, y], axis=1)"
      ],
      "metadata": {
        "id": "2oxl1jfCIvXH"
      },
      "execution_count": 15,
      "outputs": []
    },
    {
      "cell_type": "code",
      "source": [
        "#verificación 1 - unión de los datos\n",
        "df_final.head(2)"
      ],
      "metadata": {
        "colab": {
          "base_uri": "https://localhost:8080/",
          "height": 161
        },
        "id": "WvD6KLDhI2Vj",
        "outputId": "6ae7dc51-4317-4390-9836-42dcf852ccf5"
      },
      "execution_count": 16,
      "outputs": [
        {
          "output_type": "execute_result",
          "data": {
            "text/plain": [
              "   Conyuge  Dependientes  TelefonoFijo  PagoOnline  Mayor60Años  \\\n",
              "0        1             0             0           1            0   \n",
              "1        0             0             1           0            0   \n",
              "\n",
              "   MesesDeContrato  CuentaMensual  VariasLineasTelefonicas_No  \\\n",
              "0                1          29.85                           0   \n",
              "1               34          56.95                           1   \n",
              "\n",
              "   VariasLineasTelefonicas_Si  VariasLineasTelefonicas_SinServicioTelefonico  \\\n",
              "0                           0                                              1   \n",
              "1                           0                                              0   \n",
              "\n",
              "   ...  Streaming_Si  Streaming_SinServicioDeInternet  TipoDeContrato_DosAños  \\\n",
              "0  ...             0                                0                       0   \n",
              "1  ...             0                                0                       0   \n",
              "\n",
              "   TipoDeContrato_Mensual  TipoDeContrato_UnAño  FormaDePago_ChequeDigital  \\\n",
              "0                       1                     0                          1   \n",
              "1                       0                     1                          0   \n",
              "\n",
              "   FormaDePago_ChequePapel  FormaDePago_DebitoEnCuenta  \\\n",
              "0                        0                           0   \n",
              "1                        1                           0   \n",
              "\n",
              "   FormaDePago_TarjetaDeCredito  Churn  \n",
              "0                             0      0  \n",
              "1                             0      0  \n",
              "\n",
              "[2 rows x 39 columns]"
            ],
            "text/html": [
              "\n",
              "  <div id=\"df-7a3a86c1-b51d-484c-af10-eff79162d817\" class=\"colab-df-container\">\n",
              "    <div>\n",
              "<style scoped>\n",
              "    .dataframe tbody tr th:only-of-type {\n",
              "        vertical-align: middle;\n",
              "    }\n",
              "\n",
              "    .dataframe tbody tr th {\n",
              "        vertical-align: top;\n",
              "    }\n",
              "\n",
              "    .dataframe thead th {\n",
              "        text-align: right;\n",
              "    }\n",
              "</style>\n",
              "<table border=\"1\" class=\"dataframe\">\n",
              "  <thead>\n",
              "    <tr style=\"text-align: right;\">\n",
              "      <th></th>\n",
              "      <th>Conyuge</th>\n",
              "      <th>Dependientes</th>\n",
              "      <th>TelefonoFijo</th>\n",
              "      <th>PagoOnline</th>\n",
              "      <th>Mayor60Años</th>\n",
              "      <th>MesesDeContrato</th>\n",
              "      <th>CuentaMensual</th>\n",
              "      <th>VariasLineasTelefonicas_No</th>\n",
              "      <th>VariasLineasTelefonicas_Si</th>\n",
              "      <th>VariasLineasTelefonicas_SinServicioTelefonico</th>\n",
              "      <th>...</th>\n",
              "      <th>Streaming_Si</th>\n",
              "      <th>Streaming_SinServicioDeInternet</th>\n",
              "      <th>TipoDeContrato_DosAños</th>\n",
              "      <th>TipoDeContrato_Mensual</th>\n",
              "      <th>TipoDeContrato_UnAño</th>\n",
              "      <th>FormaDePago_ChequeDigital</th>\n",
              "      <th>FormaDePago_ChequePapel</th>\n",
              "      <th>FormaDePago_DebitoEnCuenta</th>\n",
              "      <th>FormaDePago_TarjetaDeCredito</th>\n",
              "      <th>Churn</th>\n",
              "    </tr>\n",
              "  </thead>\n",
              "  <tbody>\n",
              "    <tr>\n",
              "      <th>0</th>\n",
              "      <td>1</td>\n",
              "      <td>0</td>\n",
              "      <td>0</td>\n",
              "      <td>1</td>\n",
              "      <td>0</td>\n",
              "      <td>1</td>\n",
              "      <td>29.85</td>\n",
              "      <td>0</td>\n",
              "      <td>0</td>\n",
              "      <td>1</td>\n",
              "      <td>...</td>\n",
              "      <td>0</td>\n",
              "      <td>0</td>\n",
              "      <td>0</td>\n",
              "      <td>1</td>\n",
              "      <td>0</td>\n",
              "      <td>1</td>\n",
              "      <td>0</td>\n",
              "      <td>0</td>\n",
              "      <td>0</td>\n",
              "      <td>0</td>\n",
              "    </tr>\n",
              "    <tr>\n",
              "      <th>1</th>\n",
              "      <td>0</td>\n",
              "      <td>0</td>\n",
              "      <td>1</td>\n",
              "      <td>0</td>\n",
              "      <td>0</td>\n",
              "      <td>34</td>\n",
              "      <td>56.95</td>\n",
              "      <td>1</td>\n",
              "      <td>0</td>\n",
              "      <td>0</td>\n",
              "      <td>...</td>\n",
              "      <td>0</td>\n",
              "      <td>0</td>\n",
              "      <td>0</td>\n",
              "      <td>0</td>\n",
              "      <td>1</td>\n",
              "      <td>0</td>\n",
              "      <td>1</td>\n",
              "      <td>0</td>\n",
              "      <td>0</td>\n",
              "      <td>0</td>\n",
              "    </tr>\n",
              "  </tbody>\n",
              "</table>\n",
              "<p>2 rows × 39 columns</p>\n",
              "</div>\n",
              "    <div class=\"colab-df-buttons\">\n",
              "\n",
              "  <div class=\"colab-df-container\">\n",
              "    <button class=\"colab-df-convert\" onclick=\"convertToInteractive('df-7a3a86c1-b51d-484c-af10-eff79162d817')\"\n",
              "            title=\"Convert this dataframe to an interactive table.\"\n",
              "            style=\"display:none;\">\n",
              "\n",
              "  <svg xmlns=\"http://www.w3.org/2000/svg\" height=\"24px\" viewBox=\"0 -960 960 960\">\n",
              "    <path d=\"M120-120v-720h720v720H120Zm60-500h600v-160H180v160Zm220 220h160v-160H400v160Zm0 220h160v-160H400v160ZM180-400h160v-160H180v160Zm440 0h160v-160H620v160ZM180-180h160v-160H180v160Zm440 0h160v-160H620v160Z\"/>\n",
              "  </svg>\n",
              "    </button>\n",
              "\n",
              "  <style>\n",
              "    .colab-df-container {\n",
              "      display:flex;\n",
              "      gap: 12px;\n",
              "    }\n",
              "\n",
              "    .colab-df-convert {\n",
              "      background-color: #E8F0FE;\n",
              "      border: none;\n",
              "      border-radius: 50%;\n",
              "      cursor: pointer;\n",
              "      display: none;\n",
              "      fill: #1967D2;\n",
              "      height: 32px;\n",
              "      padding: 0 0 0 0;\n",
              "      width: 32px;\n",
              "    }\n",
              "\n",
              "    .colab-df-convert:hover {\n",
              "      background-color: #E2EBFA;\n",
              "      box-shadow: 0px 1px 2px rgba(60, 64, 67, 0.3), 0px 1px 3px 1px rgba(60, 64, 67, 0.15);\n",
              "      fill: #174EA6;\n",
              "    }\n",
              "\n",
              "    .colab-df-buttons div {\n",
              "      margin-bottom: 4px;\n",
              "    }\n",
              "\n",
              "    [theme=dark] .colab-df-convert {\n",
              "      background-color: #3B4455;\n",
              "      fill: #D2E3FC;\n",
              "    }\n",
              "\n",
              "    [theme=dark] .colab-df-convert:hover {\n",
              "      background-color: #434B5C;\n",
              "      box-shadow: 0px 1px 3px 1px rgba(0, 0, 0, 0.15);\n",
              "      filter: drop-shadow(0px 1px 2px rgba(0, 0, 0, 0.3));\n",
              "      fill: #FFFFFF;\n",
              "    }\n",
              "  </style>\n",
              "\n",
              "    <script>\n",
              "      const buttonEl =\n",
              "        document.querySelector('#df-7a3a86c1-b51d-484c-af10-eff79162d817 button.colab-df-convert');\n",
              "      buttonEl.style.display =\n",
              "        google.colab.kernel.accessAllowed ? 'block' : 'none';\n",
              "\n",
              "      async function convertToInteractive(key) {\n",
              "        const element = document.querySelector('#df-7a3a86c1-b51d-484c-af10-eff79162d817');\n",
              "        const dataTable =\n",
              "          await google.colab.kernel.invokeFunction('convertToInteractive',\n",
              "                                                    [key], {});\n",
              "        if (!dataTable) return;\n",
              "\n",
              "        const docLinkHtml = 'Like what you see? Visit the ' +\n",
              "          '<a target=\"_blank\" href=https://colab.research.google.com/notebooks/data_table.ipynb>data table notebook</a>'\n",
              "          + ' to learn more about interactive tables.';\n",
              "        element.innerHTML = '';\n",
              "        dataTable['output_type'] = 'display_data';\n",
              "        await google.colab.output.renderOutput(dataTable, element);\n",
              "        const docLink = document.createElement('div');\n",
              "        docLink.innerHTML = docLinkHtml;\n",
              "        element.appendChild(docLink);\n",
              "      }\n",
              "    </script>\n",
              "  </div>\n",
              "\n",
              "\n",
              "<div id=\"df-d6264693-562d-464e-a421-ef6718725538\">\n",
              "  <button class=\"colab-df-quickchart\" onclick=\"quickchart('df-d6264693-562d-464e-a421-ef6718725538')\"\n",
              "            title=\"Suggest charts.\"\n",
              "            style=\"display:none;\">\n",
              "\n",
              "<svg xmlns=\"http://www.w3.org/2000/svg\" height=\"24px\"viewBox=\"0 0 24 24\"\n",
              "     width=\"24px\">\n",
              "    <g>\n",
              "        <path d=\"M19 3H5c-1.1 0-2 .9-2 2v14c0 1.1.9 2 2 2h14c1.1 0 2-.9 2-2V5c0-1.1-.9-2-2-2zM9 17H7v-7h2v7zm4 0h-2V7h2v10zm4 0h-2v-4h2v4z\"/>\n",
              "    </g>\n",
              "</svg>\n",
              "  </button>\n",
              "\n",
              "<style>\n",
              "  .colab-df-quickchart {\n",
              "    background-color: #E8F0FE;\n",
              "    border: none;\n",
              "    border-radius: 50%;\n",
              "    cursor: pointer;\n",
              "    display: none;\n",
              "    fill: #1967D2;\n",
              "    height: 32px;\n",
              "    padding: 0 0 0 0;\n",
              "    width: 32px;\n",
              "  }\n",
              "\n",
              "  .colab-df-quickchart:hover {\n",
              "    background-color: #E2EBFA;\n",
              "    box-shadow: 0px 1px 2px rgba(60, 64, 67, 0.3), 0px 1px 3px 1px rgba(60, 64, 67, 0.15);\n",
              "    fill: #174EA6;\n",
              "  }\n",
              "\n",
              "  [theme=dark] .colab-df-quickchart {\n",
              "    background-color: #3B4455;\n",
              "    fill: #D2E3FC;\n",
              "  }\n",
              "\n",
              "  [theme=dark] .colab-df-quickchart:hover {\n",
              "    background-color: #434B5C;\n",
              "    box-shadow: 0px 1px 3px 1px rgba(0, 0, 0, 0.15);\n",
              "    filter: drop-shadow(0px 1px 2px rgba(0, 0, 0, 0.3));\n",
              "    fill: #FFFFFF;\n",
              "  }\n",
              "</style>\n",
              "\n",
              "  <script>\n",
              "    async function quickchart(key) {\n",
              "      const charts = await google.colab.kernel.invokeFunction(\n",
              "          'suggestCharts', [key], {});\n",
              "    }\n",
              "    (() => {\n",
              "      let quickchartButtonEl =\n",
              "        document.querySelector('#df-d6264693-562d-464e-a421-ef6718725538 button');\n",
              "      quickchartButtonEl.style.display =\n",
              "        google.colab.kernel.accessAllowed ? 'block' : 'none';\n",
              "    })();\n",
              "  </script>\n",
              "</div>\n",
              "    </div>\n",
              "  </div>\n"
            ]
          },
          "metadata": {},
          "execution_count": 16
        }
      ]
    },
    {
      "cell_type": "code",
      "source": [
        "#verificación 2 - balanceamiento\n",
        "ax = sns.countplot(x='Churn', data=df_final)"
      ],
      "metadata": {
        "colab": {
          "base_uri": "https://localhost:8080/",
          "height": 449
        },
        "id": "6x7O2R8nI8HL",
        "outputId": "8ba26e54-c8fb-465a-e4bc-0fd6f994473b"
      },
      "execution_count": 17,
      "outputs": [
        {
          "output_type": "display_data",
          "data": {
            "text/plain": [
              "<Figure size 640x480 with 1 Axes>"
            ],
            "image/png": "[encoded data removed]"
          },
          "metadata": {}
        }
      ]
    },
    {
      "cell_type": "code",
      "source": [
        "df_final.Churn.value_counts()"
      ],
      "metadata": {
        "colab": {
          "base_uri": "https://localhost:8080/"
        },
        "id": "Dqe5M3w0JM4M",
        "outputId": "c860811a-5c80-4941-cef5-dc6a6fa37af5"
      },
      "execution_count": 18,
      "outputs": [
        {
          "output_type": "execute_result",
          "data": {
            "text/plain": [
              "0    5174\n",
              "1    5174\n",
              "Name: Churn, dtype: int64"
            ]
          },
          "metadata": {},
          "execution_count": 18
        }
      ]
    },
    {
      "cell_type": "markdown",
      "source": [
        "## 3 | Análisis Exploratorio de Datos (EDA)"
      ],
      "metadata": {
        "id": "OGHvbUZ5VVVB"
      }
    },
    {
      "cell_type": "code",
      "source": [
        "df_final.info()"
      ],
      "metadata": {
        "colab": {
          "base_uri": "https://localhost:8080/"
        },
        "id": "AmFy5WYXVXaC",
        "outputId": "cf735842-6423-4217-f6dc-a071ae7e3d82"
      },
      "execution_count": 19,
      "outputs": [
        {
          "output_type": "stream",
          "name": "stdout",
          "text": [
            "<class 'pandas.core.frame.DataFrame'>\n",
            "RangeIndex: 10348 entries, 0 to 10347\n",
            "Data columns (total 39 columns):\n",
            " #   Column                                         Non-Null Count  Dtype  \n",
            "---  ------                                         --------------  -----  \n",
            " 0   Conyuge                                        10348 non-null  int64  \n",
            " 1   Dependientes                                   10348 non-null  int64  \n",
            " 2   TelefonoFijo                                   10348 non-null  int64  \n",
            " 3   PagoOnline                                     10348 non-null  int64  \n",
            " 4   Mayor60Años                                    10348 non-null  int64  \n",
            " 5   MesesDeContrato                                10348 non-null  int64  \n",
            " 6   CuentaMensual                                  10348 non-null  float64\n",
            " 7   VariasLineasTelefonicas_No                     10348 non-null  uint8  \n",
            " 8   VariasLineasTelefonicas_Si                     10348 non-null  uint8  \n",
            " 9   VariasLineasTelefonicas_SinServicioTelefonico  10348 non-null  uint8  \n",
            " 10  ServicioDeInternet_DSL                         10348 non-null  uint8  \n",
            " 11  ServicioDeInternet_FibraOptica                 10348 non-null  uint8  \n",
            " 12  ServicioDeInternet_No                          10348 non-null  uint8  \n",
            " 13  SeguridadOnline_No                             10348 non-null  uint8  \n",
            " 14  SeguridadOnline_Si                             10348 non-null  uint8  \n",
            " 15  SeguridadOnline_SinServicioDeInternet          10348 non-null  uint8  \n",
            " 16  BackupOnline_No                                10348 non-null  uint8  \n",
            " 17  BackupOnline_Si                                10348 non-null  uint8  \n",
            " 18  BackupOnline_SinServicioDeInternet             10348 non-null  uint8  \n",
            " 19  SeguroEnDispositivo_No                         10348 non-null  uint8  \n",
            " 20  SeguroEnDispositivo_Si                         10348 non-null  uint8  \n",
            " 21  SeguroEnDispositivo_SinServicioDeInternet      10348 non-null  uint8  \n",
            " 22  SoporteTecnico_No                              10348 non-null  uint8  \n",
            " 23  SoporteTecnico_Si                              10348 non-null  uint8  \n",
            " 24  SoporteTecnico_SinServicioDeInternet           10348 non-null  uint8  \n",
            " 25  TVCable_No                                     10348 non-null  uint8  \n",
            " 26  TVCable_Si                                     10348 non-null  uint8  \n",
            " 27  TVCable_SinServicioDeInternet                  10348 non-null  uint8  \n",
            " 28  Streaming_No                                   10348 non-null  uint8  \n",
            " 29  Streaming_Si                                   10348 non-null  uint8  \n",
            " 30  Streaming_SinServicioDeInternet                10348 non-null  uint8  \n",
            " 31  TipoDeContrato_DosAños                         10348 non-null  uint8  \n",
            " 32  TipoDeContrato_Mensual                         10348 non-null  uint8  \n",
            " 33  TipoDeContrato_UnAño                           10348 non-null  uint8  \n",
            " 34  FormaDePago_ChequeDigital                      10348 non-null  uint8  \n",
            " 35  FormaDePago_ChequePapel                        10348 non-null  uint8  \n",
            " 36  FormaDePago_DebitoEnCuenta                     10348 non-null  uint8  \n",
            " 37  FormaDePago_TarjetaDeCredito                   10348 non-null  uint8  \n",
            " 38  Churn                                          10348 non-null  int64  \n",
            "dtypes: float64(1), int64(7), uint8(31)\n",
            "memory usage: 960.1 KB\n"
          ]
        }
      ]
    },
    {
      "cell_type": "code",
      "source": [
        "# Valores nulos EN NÚMERO\n",
        "df.isnull().sum().sort_values(ascending=False)"
      ],
      "metadata": {
        "colab": {
          "base_uri": "https://localhost:8080/"
        },
        "id": "ct_9jDRJVtMM",
        "outputId": "5927f1c8-cd34-417f-8ead-6cf81d3d9fad"
      },
      "execution_count": 20,
      "outputs": [
        {
          "output_type": "execute_result",
          "data": {
            "text/plain": [
              "Mayor60Años                0\n",
              "Conyuge                    0\n",
              "CuentaMensual              0\n",
              "FormaDePago                0\n",
              "PagoOnline                 0\n",
              "TipoDeContrato             0\n",
              "Streaming                  0\n",
              "TVCable                    0\n",
              "SoporteTecnico             0\n",
              "SeguroEnDispositivo        0\n",
              "BackupOnline               0\n",
              "SeguridadOnline            0\n",
              "ServicioDeInternet         0\n",
              "VariasLineasTelefonicas    0\n",
              "TelefonoFijo               0\n",
              "MesesDeContrato            0\n",
              "Dependientes               0\n",
              "Churn                      0\n",
              "dtype: int64"
            ]
          },
          "metadata": {},
          "execution_count": 20
        }
      ]
    },
    {
      "cell_type": "markdown",
      "source": [
        "## 4 | Algoritmos de Machine Learning"
      ],
      "metadata": {
        "id": "8FVY1fqoJWjQ"
      }
    },
    {
      "cell_type": "markdown",
      "source": [
        "### 4.1 | KNN"
      ],
      "metadata": {
        "id": "iUUbs7h7JZbI"
      }
    },
    {
      "cell_type": "code",
      "source": [
        "Xcliente"
      ],
      "metadata": {
        "colab": {
          "base_uri": "https://localhost:8080/"
        },
        "id": "dhKx0O1RJf7H",
        "outputId": "42f6ee8b-f7bf-4884-c2de-16f72125dfb3"
      },
      "execution_count": 21,
      "outputs": [
        {
          "output_type": "execute_result",
          "data": {
            "text/plain": [
              "[[0,\n",
              "  0,\n",
              "  1,\n",
              "  1,\n",
              "  0,\n",
              "  0,\n",
              "  39.9,\n",
              "  1,\n",
              "  0,\n",
              "  0,\n",
              "  0,\n",
              "  1,\n",
              "  0,\n",
              "  1,\n",
              "  0,\n",
              "  0,\n",
              "  0,\n",
              "  0,\n",
              "  1,\n",
              "  1,\n",
              "  1,\n",
              "  0,\n",
              "  0,\n",
              "  1,\n",
              "  0,\n",
              "  1,\n",
              "  0,\n",
              "  0,\n",
              "  0,\n",
              "  0,\n",
              "  1,\n",
              "  0,\n",
              "  0,\n",
              "  1,\n",
              "  0,\n",
              "  0,\n",
              "  0,\n",
              "  1]]"
            ]
          },
          "metadata": {},
          "execution_count": 21
        }
      ]
    },
    {
      "cell_type": "code",
      "source": [
        "#División en inputs y outputs\n",
        "X = df_final.drop('Churn', axis = 1)\n",
        "y = df_final['Churn']"
      ],
      "metadata": {
        "id": "IbveStTWJwr8"
      },
      "execution_count": 22,
      "outputs": []
    },
    {
      "cell_type": "code",
      "source": [
        "#biblioteca para padronizar los datos\n",
        "from sklearn.preprocessing import StandardScaler"
      ],
      "metadata": {
        "id": "UfbRvk1uJ5hV"
      },
      "execution_count": 23,
      "outputs": []
    },
    {
      "cell_type": "code",
      "source": [
        "norm = StandardScaler()\n",
        "X_normalizado = norm.fit_transform(X)\n",
        "X_normalizado"
      ],
      "metadata": {
        "colab": {
          "base_uri": "https://localhost:8080/"
        },
        "id": "AdASV1tJKBgs",
        "outputId": "fbdd47ad-c015-4a9f-f78f-1289c1c71308"
      },
      "execution_count": 24,
      "outputs": [
        {
          "output_type": "execute_result",
          "data": {
            "text/plain": [
              "array([[ 1.26387878, -0.53144987, -3.04231798, ..., -0.47363024,\n",
              "        -0.43977642, -0.42893087],\n",
              "       [-0.79121512, -0.53144987,  0.32869674, ...,  2.11135168,\n",
              "        -0.43977642, -0.42893087],\n",
              "       [-0.79121512, -0.53144987,  0.32869674, ...,  2.11135168,\n",
              "        -0.43977642, -0.42893087],\n",
              "       ...,\n",
              "       [-0.79121512, -0.53144987,  0.32869674, ..., -0.47363024,\n",
              "        -0.43977642, -0.42893087],\n",
              "       [-0.79121512, -0.53144987,  0.32869674, ..., -0.47363024,\n",
              "        -0.43977642, -0.42893087],\n",
              "       [-0.79121512, -0.53144987,  0.32869674, ..., -0.47363024,\n",
              "        -0.43977642, -0.42893087]])"
            ]
          },
          "metadata": {},
          "execution_count": 24
        }
      ]
    },
    {
      "cell_type": "code",
      "source": [
        "X_normalizado[0]"
      ],
      "metadata": {
        "colab": {
          "base_uri": "https://localhost:8080/"
        },
        "id": "35z3i4mrKKYk",
        "outputId": "d1673bd7-856c-462b-81e3-9b5b0262cb6a"
      },
      "execution_count": 25,
      "outputs": [
        {
          "output_type": "execute_result",
          "data": {
            "text/plain": [
              "array([ 1.26387878, -0.53144987, -3.04231798,  0.80305014, -0.40900744,\n",
              "       -1.11470659, -1.32844805, -0.88725382, -0.84017959,  3.21273451,\n",
              "        1.51441199, -1.04974775, -0.44383835,  0.86964343, -0.52081961,\n",
              "       -0.44383835, -0.95834643,  1.57985631, -0.44383835,  1.04306   ,\n",
              "       -0.63971344, -0.44383835,  0.87084369, -0.52696167, -0.44383835,\n",
              "        1.20167573, -0.78927885, -0.44383835,  1.20215622, -0.78589647,\n",
              "       -0.44383835, -0.446643  ,  0.74085756, -0.42386621,  1.29673579,\n",
              "       -0.47363024, -0.43977642, -0.42893087])"
            ]
          },
          "metadata": {},
          "execution_count": 25
        }
      ]
    },
    {
      "cell_type": "code",
      "source": [
        "Xcliente_normalizado = norm.transform(pd.DataFrame(Xcliente, columns = X.columns))\n",
        "Xcliente_normalizado"
      ],
      "metadata": {
        "colab": {
          "base_uri": "https://localhost:8080/"
        },
        "id": "aAoyzD9FKMKp",
        "outputId": "0a2a334f-6292-47c3-ff6e-daf2531a33fb"
      },
      "execution_count": 26,
      "outputs": [
        {
          "output_type": "execute_result",
          "data": {
            "text/plain": [
              "array([[-0.79121512, -0.53144987,  0.32869674,  0.80305014, -0.40900744,\n",
              "        -1.15639549, -0.9791211 ,  1.1270732 , -0.84017959, -0.31126133,\n",
              "        -0.6603223 ,  0.9526098 , -0.44383835,  0.86964343, -0.52081961,\n",
              "        -0.44383835, -0.95834643, -0.63296896,  2.25307254,  1.04306   ,\n",
              "         1.56319993, -0.44383835, -1.1483117 ,  1.89767122, -0.44383835,\n",
              "         1.20167573, -0.78927885, -0.44383835, -0.83183864, -0.78589647,\n",
              "         2.25307254, -0.446643  , -1.34978712,  2.35923501, -0.77116712,\n",
              "        -0.47363024, -0.43977642,  2.331378  ]])"
            ]
          },
          "metadata": {},
          "execution_count": 26
        }
      ]
    },
    {
      "cell_type": "code",
      "source": [
        "#biblioteca para división de los datos\n",
        "from sklearn.model_selection import train_test_split\n",
        "\n",
        "X_train, X_test, y_train, y_test = train_test_split(X_normalizado, y, test_size=0.3, random_state=42)"
      ],
      "metadata": {
        "id": "8PEgOsO_K1Jg"
      },
      "execution_count": 27,
      "outputs": []
    },
    {
      "cell_type": "markdown",
      "source": [
        "**Entrenamiento**"
      ],
      "metadata": {
        "id": "hJBghArxK7R2"
      }
    },
    {
      "cell_type": "code",
      "source": [
        "#biblioteca para crear el modelo de machine learning\n",
        "from sklearn.neighbors import KNeighborsClassifier\n",
        "\n",
        "#iniciar el modelo (creamos el modelo) - por default son 5 vecinos\n",
        "knn = KNeighborsClassifier(metric='euclidean')"
      ],
      "metadata": {
        "id": "uhpFAOO3K6aa"
      },
      "execution_count": 28,
      "outputs": []
    },
    {
      "cell_type": "code",
      "source": [
        "#entrenando el modelo con los datos de entrenamiento\n",
        "knn.fit(X_train, y_train)"
      ],
      "metadata": {
        "colab": {
          "base_uri": "https://localhost:8080/",
          "height": 74
        },
        "id": "BUtGpX-TLT90",
        "outputId": "eef6753c-8d02-48d7-a3bf-e6d9a598aab1"
      },
      "execution_count": 29,
      "outputs": [
        {
          "output_type": "execute_result",
          "data": {
            "text/plain": [
              "KNeighborsClassifier(metric='euclidean')"
            ],
            "text/html": [
              "<style>#sk-container-id-1 {color: black;background-color: white;}#sk-container-id-1 pre{padding: 0;}#sk-container-id-1 div.sk-toggleable {background-color: white;}#sk-container-id-1 label.sk-toggleable__label {cursor: pointer;display: block;width: 100%;margin-bottom: 0;padding: 0.3em;box-sizing: border-box;text-align: center;}#sk-container-id-1 label.sk-toggleable__label-arrow:before {content: \"▸\";float: left;margin-right: 0.25em;color: #696969;}#sk-container-id-1 label.sk-toggleable__label-arrow:hover:before {color: black;}#sk-container-id-1 div.sk-estimator:hover label.sk-toggleable__label-arrow:before {color: black;}#sk-container-id-1 div.sk-toggleable__content {max-height: 0;max-width: 0;overflow: hidden;text-align: left;background-color: #f0f8ff;}#sk-container-id-1 div.sk-toggleable__content pre {margin: 0.2em;color: black;border-radius: 0.25em;background-color: #f0f8ff;}#sk-container-id-1 input.sk-toggleable__control:checked~div.sk-toggleable__content {max-height: 200px;max-width: 100%;overflow: auto;}#sk-container-id-1 input.sk-toggleable__control:checked~label.sk-toggleable__label-arrow:before {content: \"▾\";}#sk-container-id-1 div.sk-estimator input.sk-toggleable__control:checked~label.sk-toggleable__label {background-color: #d4ebff;}#sk-container-id-1 div.sk-label input.sk-toggleable__control:checked~label.sk-toggleable__label {background-color: #d4ebff;}#sk-container-id-1 input.sk-hidden--visually {border: 0;clip: rect(1px 1px 1px 1px);clip: rect(1px, 1px, 1px, 1px);height: 1px;margin: -1px;overflow: hidden;padding: 0;position: absolute;width: 1px;}#sk-container-id-1 div.sk-estimator {font-family: monospace;background-color: #f0f8ff;border: 1px dotted black;border-radius: 0.25em;box-sizing: border-box;margin-bottom: 0.5em;}#sk-container-id-1 div.sk-estimator:hover {background-color: #d4ebff;}#sk-container-id-1 div.sk-parallel-item::after {content: \"\";width: 100%;border-bottom: 1px solid gray;flex-grow: 1;}#sk-container-id-1 div.sk-label:hover label.sk-toggleable__label {background-color: #d4ebff;}#sk-container-id-1 div.sk-serial::before {content: \"\";position: absolute;border-left: 1px solid gray;box-sizing: border-box;top: 0;bottom: 0;left: 50%;z-index: 0;}#sk-container-id-1 div.sk-serial {display: flex;flex-direction: column;align-items: center;background-color: white;padding-right: 0.2em;padding-left: 0.2em;position: relative;}#sk-container-id-1 div.sk-item {position: relative;z-index: 1;}#sk-container-id-1 div.sk-parallel {display: flex;align-items: stretch;justify-content: center;background-color: white;position: relative;}#sk-container-id-1 div.sk-item::before, #sk-container-id-1 div.sk-parallel-item::before {content: \"\";position: absolute;border-left: 1px solid gray;box-sizing: border-box;top: 0;bottom: 0;left: 50%;z-index: -1;}#sk-container-id-1 div.sk-parallel-item {display: flex;flex-direction: column;z-index: 1;position: relative;background-color: white;}#sk-container-id-1 div.sk-parallel-item:first-child::after {align-self: flex-end;width: 50%;}#sk-container-id-1 div.sk-parallel-item:last-child::after {align-self: flex-start;width: 50%;}#sk-container-id-1 div.sk-parallel-item:only-child::after {width: 0;}#sk-container-id-1 div.sk-dashed-wrapped {border: 1px dashed gray;margin: 0 0.4em 0.5em 0.4em;box-sizing: border-box;padding-bottom: 0.4em;background-color: white;}#sk-container-id-1 div.sk-label label {font-family: monospace;font-weight: bold;display: inline-block;line-height: 1.2em;}#sk-container-id-1 div.sk-label-container {text-align: center;}#sk-container-id-1 div.sk-container {/* jupyter's `normalize.less` sets `[hidden] { display: none; }` but bootstrap.min.css set `[hidden] { display: none !important; }` so we also need the `!important` here to be able to override the default hidden behavior on the sphinx rendered scikit-learn.org. See: https://github.com/scikit-learn/scikit-learn/issues/21755 */display: inline-block !important;position: relative;}#sk-container-id-1 div.sk-text-repr-fallback {display: none;}</style><div id=\"sk-container-id-1\" class=\"sk-top-container\"><div class=\"sk-text-repr-fallback\"><pre>KNeighborsClassifier(metric=&#x27;euclidean&#x27;)</pre><b>In a Jupyter environment, please rerun this cell to show the HTML representation or trust the notebook. <br />On GitHub, the HTML representation is unable to render, please try loading this page with nbviewer.org.</b></div><div class=\"sk-container\" hidden><div class=\"sk-item\"><div class=\"sk-estimator sk-toggleable\"><input class=\"sk-toggleable__control sk-hidden--visually\" id=\"sk-estimator-id-1\" type=\"checkbox\" checked><label for=\"sk-estimator-id-1\" class=\"sk-toggleable__label sk-toggleable__label-arrow\">KNeighborsClassifier</label><div class=\"sk-toggleable__content\"><pre>KNeighborsClassifier(metric=&#x27;euclidean&#x27;)</pre></div></div></div></div></div>"
            ]
          },
          "metadata": {},
          "execution_count": 29
        }
      ]
    },
    {
      "cell_type": "code",
      "source": [
        "#probando el modelo con los datos de prueba\n",
        "prediccion_knn = knn.predict(X_test)"
      ],
      "metadata": {
        "id": "1dof3A_FLV4E"
      },
      "execution_count": 30,
      "outputs": []
    },
    {
      "cell_type": "code",
      "source": [
        "prediccion_knn"
      ],
      "metadata": {
        "colab": {
          "base_uri": "https://localhost:8080/"
        },
        "id": "ADbe5jC7LXZS",
        "outputId": "12150156-d088-4c1b-8f74-bca2ff7224a5"
      },
      "execution_count": 31,
      "outputs": [
        {
          "output_type": "execute_result",
          "data": {
            "text/plain": [
              "array([1, 0, 0, ..., 1, 1, 0])"
            ]
          },
          "metadata": {},
          "execution_count": 31
        }
      ]
    },
    {
      "cell_type": "markdown",
      "source": [
        "### 4.2 | Naive Bayes (Bernoulli)"
      ],
      "metadata": {
        "id": "yFHi4qeVMC9z"
      }
    },
    {
      "cell_type": "code",
      "source": [
        "#biblioteca para crear el modelo de machine learning\n",
        "from sklearn.naive_bayes import BernoulliNB"
      ],
      "metadata": {
        "id": "o-ZNq3AEMA5W"
      },
      "execution_count": 32,
      "outputs": []
    },
    {
      "cell_type": "code",
      "source": [
        "X_train"
      ],
      "metadata": {
        "colab": {
          "base_uri": "https://localhost:8080/"
        },
        "id": "4NQw6s79NNmi",
        "outputId": "483ae36d-b94a-4f72-fac9-0845fef5ba7d"
      },
      "execution_count": 33,
      "outputs": [
        {
          "output_type": "execute_result",
          "data": {
            "text/plain": [
              "array([[-0.79121512, -0.53144987,  0.32869674, ...,  2.11135168,\n",
              "        -0.43977642, -0.42893087],\n",
              "       [-0.79121512, -0.53144987,  0.32869674, ..., -0.47363024,\n",
              "        -0.43977642, -0.42893087],\n",
              "       [ 1.26387878, -0.53144987,  0.32869674, ..., -0.47363024,\n",
              "         2.27388272, -0.42893087],\n",
              "       ...,\n",
              "       [-0.79121512, -0.53144987,  0.32869674, ..., -0.47363024,\n",
              "        -0.43977642, -0.42893087],\n",
              "       [-0.79121512, -0.53144987,  0.32869674, ..., -0.47363024,\n",
              "        -0.43977642,  2.331378  ],\n",
              "       [-0.79121512, -0.53144987,  0.32869674, ...,  2.11135168,\n",
              "        -0.43977642, -0.42893087]])"
            ]
          },
          "metadata": {},
          "execution_count": 33
        }
      ]
    },
    {
      "cell_type": "code",
      "source": [
        "#escojo utilizar mediana, porque es el valor central de nuestros datos ordenados\n",
        "mediana = np.median(X_train)\n",
        "mediana"
      ],
      "metadata": {
        "colab": {
          "base_uri": "https://localhost:8080/"
        },
        "id": "PucYT00LNO-W",
        "outputId": "da25313e-6215-4de0-fd25-27623fd74d4c"
      },
      "execution_count": 34,
      "outputs": [
        {
          "output_type": "execute_result",
          "data": {
            "text/plain": [
              "-0.443838350306739"
            ]
          },
          "metadata": {},
          "execution_count": 34
        }
      ]
    },
    {
      "cell_type": "code",
      "source": [
        "#Binarizando los recursos usando la mediana\n",
        "X_train_binarizado = np.where(X_train > mediana, 1, 0)"
      ],
      "metadata": {
        "id": "mmDrj_6HNPm6"
      },
      "execution_count": 35,
      "outputs": []
    },
    {
      "cell_type": "code",
      "source": [
        "X_train_binarizado"
      ],
      "metadata": {
        "colab": {
          "base_uri": "https://localhost:8080/"
        },
        "id": "XSe4sNZ4NSOH",
        "outputId": "8f58c3a9-4b87-4249-d958-5b95d7302058"
      },
      "execution_count": 36,
      "outputs": [
        {
          "output_type": "execute_result",
          "data": {
            "text/plain": [
              "array([[0, 0, 1, ..., 1, 1, 1],\n",
              "       [0, 0, 1, ..., 0, 1, 1],\n",
              "       [1, 0, 1, ..., 0, 1, 1],\n",
              "       ...,\n",
              "       [0, 0, 1, ..., 0, 1, 1],\n",
              "       [0, 0, 1, ..., 0, 1, 1],\n",
              "       [0, 0, 1, ..., 1, 1, 1]])"
            ]
          },
          "metadata": {},
          "execution_count": 36
        }
      ]
    },
    {
      "cell_type": "code",
      "source": [
        "y_train"
      ],
      "metadata": {
        "colab": {
          "base_uri": "https://localhost:8080/"
        },
        "id": "S-x5ymh_NUaq",
        "outputId": "0e793f5b-21cb-4d71-d75a-40eb17acb80f"
      },
      "execution_count": 37,
      "outputs": [
        {
          "output_type": "execute_result",
          "data": {
            "text/plain": [
              "8969    1\n",
              "7136    1\n",
              "3668    0\n",
              "1701    1\n",
              "3143    0\n",
              "       ..\n",
              "5734    0\n",
              "5191    0\n",
              "5390    1\n",
              "860     0\n",
              "7270    1\n",
              "Name: Churn, Length: 7243, dtype: int64"
            ]
          },
          "metadata": {},
          "execution_count": 37
        }
      ]
    },
    {
      "cell_type": "code",
      "source": [
        "#creamos el modelo\n",
        "bnb = BernoulliNB()"
      ],
      "metadata": {
        "id": "NYRuPNTsNVxB"
      },
      "execution_count": 38,
      "outputs": []
    },
    {
      "cell_type": "code",
      "source": [
        "#entrenando el modelo\n",
        "bnb.fit(X_train_binarizado, y_train)"
      ],
      "metadata": {
        "colab": {
          "base_uri": "https://localhost:8080/",
          "height": 74
        },
        "id": "BtrLG75tNXG0",
        "outputId": "25fd2e22-10e4-409d-eef7-19ebef6e817c"
      },
      "execution_count": 39,
      "outputs": [
        {
          "output_type": "execute_result",
          "data": {
            "text/plain": [
              "BernoulliNB()"
            ],
            "text/html": [
              "<style>#sk-container-id-2 {color: black;background-color: white;}#sk-container-id-2 pre{padding: 0;}#sk-container-id-2 div.sk-toggleable {background-color: white;}#sk-container-id-2 label.sk-toggleable__label {cursor: pointer;display: block;width: 100%;margin-bottom: 0;padding: 0.3em;box-sizing: border-box;text-align: center;}#sk-container-id-2 label.sk-toggleable__label-arrow:before {content: \"▸\";float: left;margin-right: 0.25em;color: #696969;}#sk-container-id-2 label.sk-toggleable__label-arrow:hover:before {color: black;}#sk-container-id-2 div.sk-estimator:hover label.sk-toggleable__label-arrow:before {color: black;}#sk-container-id-2 div.sk-toggleable__content {max-height: 0;max-width: 0;overflow: hidden;text-align: left;background-color: #f0f8ff;}#sk-container-id-2 div.sk-toggleable__content pre {margin: 0.2em;color: black;border-radius: 0.25em;background-color: #f0f8ff;}#sk-container-id-2 input.sk-toggleable__control:checked~div.sk-toggleable__content {max-height: 200px;max-width: 100%;overflow: auto;}#sk-container-id-2 input.sk-toggleable__control:checked~label.sk-toggleable__label-arrow:before {content: \"▾\";}#sk-container-id-2 div.sk-estimator input.sk-toggleable__control:checked~label.sk-toggleable__label {background-color: #d4ebff;}#sk-container-id-2 div.sk-label input.sk-toggleable__control:checked~label.sk-toggleable__label {background-color: #d4ebff;}#sk-container-id-2 input.sk-hidden--visually {border: 0;clip: rect(1px 1px 1px 1px);clip: rect(1px, 1px, 1px, 1px);height: 1px;margin: -1px;overflow: hidden;padding: 0;position: absolute;width: 1px;}#sk-container-id-2 div.sk-estimator {font-family: monospace;background-color: #f0f8ff;border: 1px dotted black;border-radius: 0.25em;box-sizing: border-box;margin-bottom: 0.5em;}#sk-container-id-2 div.sk-estimator:hover {background-color: #d4ebff;}#sk-container-id-2 div.sk-parallel-item::after {content: \"\";width: 100%;border-bottom: 1px solid gray;flex-grow: 1;}#sk-container-id-2 div.sk-label:hover label.sk-toggleable__label {background-color: #d4ebff;}#sk-container-id-2 div.sk-serial::before {content: \"\";position: absolute;border-left: 1px solid gray;box-sizing: border-box;top: 0;bottom: 0;left: 50%;z-index: 0;}#sk-container-id-2 div.sk-serial {display: flex;flex-direction: column;align-items: center;background-color: white;padding-right: 0.2em;padding-left: 0.2em;position: relative;}#sk-container-id-2 div.sk-item {position: relative;z-index: 1;}#sk-container-id-2 div.sk-parallel {display: flex;align-items: stretch;justify-content: center;background-color: white;position: relative;}#sk-container-id-2 div.sk-item::before, #sk-container-id-2 div.sk-parallel-item::before {content: \"\";position: absolute;border-left: 1px solid gray;box-sizing: border-box;top: 0;bottom: 0;left: 50%;z-index: -1;}#sk-container-id-2 div.sk-parallel-item {display: flex;flex-direction: column;z-index: 1;position: relative;background-color: white;}#sk-container-id-2 div.sk-parallel-item:first-child::after {align-self: flex-end;width: 50%;}#sk-container-id-2 div.sk-parallel-item:last-child::after {align-self: flex-start;width: 50%;}#sk-container-id-2 div.sk-parallel-item:only-child::after {width: 0;}#sk-container-id-2 div.sk-dashed-wrapped {border: 1px dashed gray;margin: 0 0.4em 0.5em 0.4em;box-sizing: border-box;padding-bottom: 0.4em;background-color: white;}#sk-container-id-2 div.sk-label label {font-family: monospace;font-weight: bold;display: inline-block;line-height: 1.2em;}#sk-container-id-2 div.sk-label-container {text-align: center;}#sk-container-id-2 div.sk-container {/* jupyter's `normalize.less` sets `[hidden] { display: none; }` but bootstrap.min.css set `[hidden] { display: none !important; }` so we also need the `!important` here to be able to override the default hidden behavior on the sphinx rendered scikit-learn.org. See: https://github.com/scikit-learn/scikit-learn/issues/21755 */display: inline-block !important;position: relative;}#sk-container-id-2 div.sk-text-repr-fallback {display: none;}</style><div id=\"sk-container-id-2\" class=\"sk-top-container\"><div class=\"sk-text-repr-fallback\"><pre>BernoulliNB()</pre><b>In a Jupyter environment, please rerun this cell to show the HTML representation or trust the notebook. <br />On GitHub, the HTML representation is unable to render, please try loading this page with nbviewer.org.</b></div><div class=\"sk-container\" hidden><div class=\"sk-item\"><div class=\"sk-estimator sk-toggleable\"><input class=\"sk-toggleable__control sk-hidden--visually\" id=\"sk-estimator-id-2\" type=\"checkbox\" checked><label for=\"sk-estimator-id-2\" class=\"sk-toggleable__label sk-toggleable__label-arrow\">BernoulliNB</label><div class=\"sk-toggleable__content\"><pre>BernoulliNB()</pre></div></div></div></div></div>"
            ]
          },
          "metadata": {},
          "execution_count": 39
        }
      ]
    },
    {
      "cell_type": "code",
      "source": [
        "#Binarizando la base de prueba\n",
        "X_test_binarizado = np.where(X_test > np.median(X_test), 1, 0)"
      ],
      "metadata": {
        "id": "uwClgf9bNYnY"
      },
      "execution_count": 40,
      "outputs": []
    },
    {
      "cell_type": "code",
      "source": [
        "#probando el modelo\n",
        "prediccion_BNb = bnb.predict(X_test_binarizado)"
      ],
      "metadata": {
        "id": "c9rY4j_FNaMG"
      },
      "execution_count": 41,
      "outputs": []
    },
    {
      "cell_type": "code",
      "source": [
        "prediccion_BNb"
      ],
      "metadata": {
        "colab": {
          "base_uri": "https://localhost:8080/"
        },
        "id": "1IY4Af2xNbmF",
        "outputId": "d9c955aa-c414-42e1-86f9-b6f04dec31d9"
      },
      "execution_count": 42,
      "outputs": [
        {
          "output_type": "execute_result",
          "data": {
            "text/plain": [
              "array([1, 0, 1, ..., 1, 1, 1])"
            ]
          },
          "metadata": {},
          "execution_count": 42
        }
      ]
    },
    {
      "cell_type": "markdown",
      "source": [
        "### 4.3 | Árbol de decisión"
      ],
      "metadata": {
        "id": "pg8nlM6KMRxB"
      }
    },
    {
      "cell_type": "code",
      "source": [
        "#biblioteca para crear el modelo de machine learning\n",
        "from sklearn.tree import DecisionTreeClassifier"
      ],
      "metadata": {
        "id": "o_R-soCbNjIr"
      },
      "execution_count": 43,
      "outputs": []
    },
    {
      "cell_type": "code",
      "source": [
        "#iniciando el modelo\n",
        "dtc = DecisionTreeClassifier(criterion='entropy', random_state=42)"
      ],
      "metadata": {
        "id": "hOhq4mZjNkmS"
      },
      "execution_count": 44,
      "outputs": []
    },
    {
      "cell_type": "code",
      "source": [
        "#entrenando el modelo\n",
        "dtc.fit(X_train, y_train)"
      ],
      "metadata": {
        "colab": {
          "base_uri": "https://localhost:8080/",
          "height": 74
        },
        "id": "qF6deGRVNlyY",
        "outputId": "fbf88cc3-f758-4981-94b1-0cb472e7b94b"
      },
      "execution_count": 45,
      "outputs": [
        {
          "output_type": "execute_result",
          "data": {
            "text/plain": [
              "DecisionTreeClassifier(criterion='entropy', random_state=42)"
            ],
            "text/html": [
              "<style>#sk-container-id-3 {color: black;background-color: white;}#sk-container-id-3 pre{padding: 0;}#sk-container-id-3 div.sk-toggleable {background-color: white;}#sk-container-id-3 label.sk-toggleable__label {cursor: pointer;display: block;width: 100%;margin-bottom: 0;padding: 0.3em;box-sizing: border-box;text-align: center;}#sk-container-id-3 label.sk-toggleable__label-arrow:before {content: \"▸\";float: left;margin-right: 0.25em;color: #696969;}#sk-container-id-3 label.sk-toggleable__label-arrow:hover:before {color: black;}#sk-container-id-3 div.sk-estimator:hover label.sk-toggleable__label-arrow:before {color: black;}#sk-container-id-3 div.sk-toggleable__content {max-height: 0;max-width: 0;overflow: hidden;text-align: left;background-color: #f0f8ff;}#sk-container-id-3 div.sk-toggleable__content pre {margin: 0.2em;color: black;border-radius: 0.25em;background-color: #f0f8ff;}#sk-container-id-3 input.sk-toggleable__control:checked~div.sk-toggleable__content {max-height: 200px;max-width: 100%;overflow: auto;}#sk-container-id-3 input.sk-toggleable__control:checked~label.sk-toggleable__label-arrow:before {content: \"▾\";}#sk-container-id-3 div.sk-estimator input.sk-toggleable__control:checked~label.sk-toggleable__label {background-color: #d4ebff;}#sk-container-id-3 div.sk-label input.sk-toggleable__control:checked~label.sk-toggleable__label {background-color: #d4ebff;}#sk-container-id-3 input.sk-hidden--visually {border: 0;clip: rect(1px 1px 1px 1px);clip: rect(1px, 1px, 1px, 1px);height: 1px;margin: -1px;overflow: hidden;padding: 0;position: absolute;width: 1px;}#sk-container-id-3 div.sk-estimator {font-family: monospace;background-color: #f0f8ff;border: 1px dotted black;border-radius: 0.25em;box-sizing: border-box;margin-bottom: 0.5em;}#sk-container-id-3 div.sk-estimator:hover {background-color: #d4ebff;}#sk-container-id-3 div.sk-parallel-item::after {content: \"\";width: 100%;border-bottom: 1px solid gray;flex-grow: 1;}#sk-container-id-3 div.sk-label:hover label.sk-toggleable__label {background-color: #d4ebff;}#sk-container-id-3 div.sk-serial::before {content: \"\";position: absolute;border-left: 1px solid gray;box-sizing: border-box;top: 0;bottom: 0;left: 50%;z-index: 0;}#sk-container-id-3 div.sk-serial {display: flex;flex-direction: column;align-items: center;background-color: white;padding-right: 0.2em;padding-left: 0.2em;position: relative;}#sk-container-id-3 div.sk-item {position: relative;z-index: 1;}#sk-container-id-3 div.sk-parallel {display: flex;align-items: stretch;justify-content: center;background-color: white;position: relative;}#sk-container-id-3 div.sk-item::before, #sk-container-id-3 div.sk-parallel-item::before {content: \"\";position: absolute;border-left: 1px solid gray;box-sizing: border-box;top: 0;bottom: 0;left: 50%;z-index: -1;}#sk-container-id-3 div.sk-parallel-item {display: flex;flex-direction: column;z-index: 1;position: relative;background-color: white;}#sk-container-id-3 div.sk-parallel-item:first-child::after {align-self: flex-end;width: 50%;}#sk-container-id-3 div.sk-parallel-item:last-child::after {align-self: flex-start;width: 50%;}#sk-container-id-3 div.sk-parallel-item:only-child::after {width: 0;}#sk-container-id-3 div.sk-dashed-wrapped {border: 1px dashed gray;margin: 0 0.4em 0.5em 0.4em;box-sizing: border-box;padding-bottom: 0.4em;background-color: white;}#sk-container-id-3 div.sk-label label {font-family: monospace;font-weight: bold;display: inline-block;line-height: 1.2em;}#sk-container-id-3 div.sk-label-container {text-align: center;}#sk-container-id-3 div.sk-container {/* jupyter's `normalize.less` sets `[hidden] { display: none; }` but bootstrap.min.css set `[hidden] { display: none !important; }` so we also need the `!important` here to be able to override the default hidden behavior on the sphinx rendered scikit-learn.org. See: https://github.com/scikit-learn/scikit-learn/issues/21755 */display: inline-block !important;position: relative;}#sk-container-id-3 div.sk-text-repr-fallback {display: none;}</style><div id=\"sk-container-id-3\" class=\"sk-top-container\"><div class=\"sk-text-repr-fallback\"><pre>DecisionTreeClassifier(criterion=&#x27;entropy&#x27;, random_state=42)</pre><b>In a Jupyter environment, please rerun this cell to show the HTML representation or trust the notebook. <br />On GitHub, the HTML representation is unable to render, please try loading this page with nbviewer.org.</b></div><div class=\"sk-container\" hidden><div class=\"sk-item\"><div class=\"sk-estimator sk-toggleable\"><input class=\"sk-toggleable__control sk-hidden--visually\" id=\"sk-estimator-id-3\" type=\"checkbox\" checked><label for=\"sk-estimator-id-3\" class=\"sk-toggleable__label sk-toggleable__label-arrow\">DecisionTreeClassifier</label><div class=\"sk-toggleable__content\"><pre>DecisionTreeClassifier(criterion=&#x27;entropy&#x27;, random_state=42)</pre></div></div></div></div></div>"
            ]
          },
          "metadata": {},
          "execution_count": 45
        }
      ]
    },
    {
      "cell_type": "code",
      "source": [
        "#verificando la importancia de cada atributo (la entropia para cada variable)\n",
        "dtc.feature_importances_"
      ],
      "metadata": {
        "colab": {
          "base_uri": "https://localhost:8080/"
        },
        "id": "m-VYoviHNm91",
        "outputId": "de481919-8c4a-478a-aed2-88c2cf0bc8b4"
      },
      "execution_count": 46,
      "outputs": [
        {
          "output_type": "execute_result",
          "data": {
            "text/plain": [
              "array([0.01966781, 0.01978875, 0.00474036, 0.02249306, 0.01786682,\n",
              "       0.16664804, 0.21687216, 0.01201321, 0.01131877, 0.00525994,\n",
              "       0.00057325, 0.03096302, 0.00038224, 0.01693526, 0.01694233,\n",
              "       0.        , 0.0097583 , 0.01266132, 0.        , 0.00845689,\n",
              "       0.00887121, 0.00385302, 0.00911416, 0.01339848, 0.        ,\n",
              "       0.00796528, 0.00731605, 0.        , 0.00767013, 0.01306008,\n",
              "       0.        , 0.03666108, 0.15503416, 0.07311628, 0.01753098,\n",
              "       0.02340369, 0.01113711, 0.01852676])"
            ]
          },
          "metadata": {},
          "execution_count": 46
        }
      ]
    },
    {
      "cell_type": "code",
      "source": [
        "prediccion_ArbolDecision = dtc.predict(X_test)"
      ],
      "metadata": {
        "id": "ssUjxRqpNo7O"
      },
      "execution_count": 47,
      "outputs": []
    },
    {
      "cell_type": "code",
      "source": [
        "prediccion_ArbolDecision"
      ],
      "metadata": {
        "colab": {
          "base_uri": "https://localhost:8080/"
        },
        "id": "bojJyAZbNqLq",
        "outputId": "2b89fdf8-c0d0-4d0f-ec76-b30de36be3c0"
      },
      "execution_count": 48,
      "outputs": [
        {
          "output_type": "execute_result",
          "data": {
            "text/plain": [
              "array([1, 0, 0, ..., 0, 1, 1])"
            ]
          },
          "metadata": {},
          "execution_count": 48
        }
      ]
    },
    {
      "cell_type": "markdown",
      "source": [
        "## 5 | Validación de los modelos"
      ],
      "metadata": {
        "id": "Z1YlhjSiOleH"
      }
    },
    {
      "cell_type": "markdown",
      "source": [
        "### 5.1 | Matriz de confusión"
      ],
      "metadata": {
        "id": "VjNg0mYcOsqS"
      }
    },
    {
      "cell_type": "code",
      "source": [
        "y_test"
      ],
      "metadata": {
        "colab": {
          "base_uri": "https://localhost:8080/"
        },
        "id": "pgugC36a4F9p",
        "outputId": "b7b610e3-c66b-46d3-d183-f255a3ad90e3"
      },
      "execution_count": 49,
      "outputs": [
        {
          "output_type": "execute_result",
          "data": {
            "text/plain": [
              "9428    1\n",
              "4593    0\n",
              "5379    0\n",
              "8918    1\n",
              "6448    1\n",
              "       ..\n",
              "6792    1\n",
              "2268    0\n",
              "445     1\n",
              "5257    1\n",
              "4803    0\n",
              "Name: Churn, Length: 3105, dtype: int64"
            ]
          },
          "metadata": {},
          "execution_count": 49
        }
      ]
    },
    {
      "cell_type": "code",
      "source": [
        "from sklearn.metrics import confusion_matrix"
      ],
      "metadata": {
        "id": "7btQ7N8t4HrW"
      },
      "execution_count": 50,
      "outputs": []
    },
    {
      "cell_type": "code",
      "source": [
        "print(confusion_matrix(y_test, prediccion_knn))"
      ],
      "metadata": {
        "colab": {
          "base_uri": "https://localhost:8080/"
        },
        "id": "YKIwtPpn4JFm",
        "outputId": "8ff8327a-df23-49bb-fe3b-f1bcd3b25157"
      },
      "execution_count": 51,
      "outputs": [
        {
          "output_type": "stream",
          "name": "stdout",
          "text": [
            "[[1256  318]\n",
            " [ 241 1290]]\n"
          ]
        }
      ]
    },
    {
      "cell_type": "code",
      "source": [
        "print(confusion_matrix(y_test, prediccion_BNb))"
      ],
      "metadata": {
        "colab": {
          "base_uri": "https://localhost:8080/"
        },
        "id": "Vh2Ysd7m4MXW",
        "outputId": "84e6fdd1-4867-4d0e-afb1-ace4998bb90f"
      },
      "execution_count": 52,
      "outputs": [
        {
          "output_type": "stream",
          "name": "stdout",
          "text": [
            "[[1061  513]\n",
            " [ 216 1315]]\n"
          ]
        }
      ]
    },
    {
      "cell_type": "code",
      "source": [
        "print(confusion_matrix(y_test, prediccion_ArbolDecision))"
      ],
      "metadata": {
        "colab": {
          "base_uri": "https://localhost:8080/"
        },
        "id": "UdtiOnsS4N1K",
        "outputId": "69c5016e-472c-4402-de88-b36ee4805d6a"
      },
      "execution_count": 53,
      "outputs": [
        {
          "output_type": "stream",
          "name": "stdout",
          "text": [
            "[[1234  340]\n",
            " [ 291 1240]]\n"
          ]
        }
      ]
    },
    {
      "cell_type": "markdown",
      "source": [
        "### 5.2 | Accuracy"
      ],
      "metadata": {
        "id": "Cn50X9PDOxeA"
      }
    },
    {
      "cell_type": "code",
      "source": [
        "from sklearn.metrics import accuracy_score"
      ],
      "metadata": {
        "id": "PgGj1Xf14RGH"
      },
      "execution_count": 54,
      "outputs": []
    },
    {
      "cell_type": "code",
      "source": [
        "#modelo KNN\n",
        "print(accuracy_score(y_test, prediccion_knn))"
      ],
      "metadata": {
        "colab": {
          "base_uri": "https://localhost:8080/"
        },
        "id": "YwfV5ucw4SpX",
        "outputId": "070b41e3-3f96-4320-f80b-ae5732ebf110"
      },
      "execution_count": 55,
      "outputs": [
        {
          "output_type": "stream",
          "name": "stdout",
          "text": [
            "0.8199677938808374\n"
          ]
        }
      ]
    },
    {
      "cell_type": "code",
      "source": [
        "#modelo Bernoulli de Naive Bayes\n",
        "print(accuracy_score(y_test, prediccion_BNb))"
      ],
      "metadata": {
        "colab": {
          "base_uri": "https://localhost:8080/"
        },
        "id": "kJqPWsvc4Vca",
        "outputId": "a403c08b-580a-45c5-e305-12e34158c58f"
      },
      "execution_count": 56,
      "outputs": [
        {
          "output_type": "stream",
          "name": "stdout",
          "text": [
            "0.7652173913043478\n"
          ]
        }
      ]
    },
    {
      "cell_type": "code",
      "source": [
        "#modelo Arbol de Decisión\n",
        "print(accuracy_score(y_test, prediccion_ArbolDecision))"
      ],
      "metadata": {
        "colab": {
          "base_uri": "https://localhost:8080/"
        },
        "id": "l7CuYhgj4XAL",
        "outputId": "5d0060a6-0196-4887-af7c-4ea10e374bca"
      },
      "execution_count": 57,
      "outputs": [
        {
          "output_type": "stream",
          "name": "stdout",
          "text": [
            "0.7967793880837359\n"
          ]
        }
      ]
    },
    {
      "cell_type": "markdown",
      "source": [
        "### 5.3 | Precisión"
      ],
      "metadata": {
        "id": "Cn1jeAEOO3AL"
      }
    },
    {
      "cell_type": "code",
      "source": [
        "from sklearn.metrics import precision_score"
      ],
      "metadata": {
        "id": "-NgnFFb84bxg"
      },
      "execution_count": 58,
      "outputs": []
    },
    {
      "cell_type": "code",
      "source": [
        "#modelo KNN\n",
        "print(precision_score(y_test, prediccion_knn))"
      ],
      "metadata": {
        "colab": {
          "base_uri": "https://localhost:8080/"
        },
        "id": "26nzBZ4d4elt",
        "outputId": "868ea791-fe28-4686-a2fe-ddc351b14a8c"
      },
      "execution_count": 59,
      "outputs": [
        {
          "output_type": "stream",
          "name": "stdout",
          "text": [
            "0.8022388059701493\n"
          ]
        }
      ]
    },
    {
      "cell_type": "code",
      "source": [
        "#modelo Bernoulli de Naive Bayes\n",
        "print(precision_score(y_test, prediccion_BNb))"
      ],
      "metadata": {
        "colab": {
          "base_uri": "https://localhost:8080/"
        },
        "id": "sJNDGI594epy",
        "outputId": "3ea3d740-670f-47a1-ba1e-c0998b0fc650"
      },
      "execution_count": 60,
      "outputs": [
        {
          "output_type": "stream",
          "name": "stdout",
          "text": [
            "0.7193654266958425\n"
          ]
        }
      ]
    },
    {
      "cell_type": "code",
      "source": [
        "#modelo Arbol de Decisión\n",
        "print(precision_score(y_test, prediccion_ArbolDecision))"
      ],
      "metadata": {
        "colab": {
          "base_uri": "https://localhost:8080/"
        },
        "id": "xSz7rW1X4es1",
        "outputId": "84d7c41c-72d2-47d2-9327-de1d7ec63013"
      },
      "execution_count": 61,
      "outputs": [
        {
          "output_type": "stream",
          "name": "stdout",
          "text": [
            "0.7848101265822784\n"
          ]
        }
      ]
    },
    {
      "cell_type": "markdown",
      "source": [
        "### 5.4 | Recall"
      ],
      "metadata": {
        "id": "aCZ0fgbBO5e9"
      }
    },
    {
      "cell_type": "code",
      "source": [
        "from sklearn.metrics import recall_score"
      ],
      "metadata": {
        "id": "QRKPWKDz4kUr"
      },
      "execution_count": 62,
      "outputs": []
    },
    {
      "cell_type": "code",
      "source": [
        "#modelo KNN\n",
        "print(recall_score(y_test, prediccion_knn))"
      ],
      "metadata": {
        "colab": {
          "base_uri": "https://localhost:8080/"
        },
        "id": "TKrTW_Cb4mSK",
        "outputId": "6c1f816b-3a45-431e-8aaf-a0a010bdf4c6"
      },
      "execution_count": 63,
      "outputs": [
        {
          "output_type": "stream",
          "name": "stdout",
          "text": [
            "0.8425865447419987\n"
          ]
        }
      ]
    },
    {
      "cell_type": "code",
      "source": [
        "#modelo Bernoulli de Naive Bayes\n",
        "print(recall_score(y_test, prediccion_BNb))"
      ],
      "metadata": {
        "colab": {
          "base_uri": "https://localhost:8080/"
        },
        "id": "rRKn_HF64mYp",
        "outputId": "c519194d-37bc-4840-a2d4-3e0fc20bc439"
      },
      "execution_count": 64,
      "outputs": [
        {
          "output_type": "stream",
          "name": "stdout",
          "text": [
            "0.8589157413455258\n"
          ]
        }
      ]
    },
    {
      "cell_type": "code",
      "source": [
        "#modelo Arbol de Decisión\n",
        "print(recall_score(y_test, prediccion_ArbolDecision))"
      ],
      "metadata": {
        "colab": {
          "base_uri": "https://localhost:8080/"
        },
        "id": "qMtsH8Tx4mbN",
        "outputId": "39bceb4b-e3f0-4cd6-d89b-2c16692e0751"
      },
      "execution_count": 65,
      "outputs": [
        {
          "output_type": "stream",
          "name": "stdout",
          "text": [
            "0.8099281515349445\n"
          ]
        }
      ]
    },
    {
      "cell_type": "markdown",
      "source": [
        "## 6 | Escogiendo el mejor modelo\n",
        "\n",
        "\n",
        "\n"
      ],
      "metadata": {
        "id": "CmZgIGJMPCe2"
      }
    },
    {
      "cell_type": "code",
      "source": [
        "#Ejemplo - análisis de las precisiones previamente calculadas\n",
        "print('Modelo KNN: ', precision_score(y_test, prediccion_knn))\n",
        "print('Modelo Bernoulli de Naive Bayes: ', precision_score(y_test, prediccion_BNb))\n",
        "print('Modelo Arbol de Decisión: ', precision_score(y_test, prediccion_ArbolDecision))"
      ],
      "metadata": {
        "colab": {
          "base_uri": "https://localhost:8080/"
        },
        "id": "BUwgRw5S5SH_",
        "outputId": "6d2bd48c-69d2-4935-f0ae-31aeff2194e9"
      },
      "execution_count": 66,
      "outputs": [
        {
          "output_type": "stream",
          "name": "stdout",
          "text": [
            "Modelo KNN:  0.8022388059701493\n",
            "Modelo Bernoulli de Naive Bayes:  0.7193654266958425\n",
            "Modelo Arbol de Decisión:  0.7848101265822784\n"
          ]
        }
      ]
    },
    {
      "cell_type": "code",
      "source": [
        "#Probando el mejor modelo para Cliente\n",
        "prediccion_cliente = knn.predict(Xcliente_normalizado)\n",
        "diccionario = {'Si': 1, 'No': 0}\n",
        "\n",
        "clave_encontrada = next((clave for clave, valor in diccionario.items() if valor == prediccion_cliente[0]), None)\n",
        "print(f\"La probabilidad de que Xcliente se convierta en Churn es: {clave_encontrada}\")"
      ],
      "metadata": {
        "colab": {
          "base_uri": "https://localhost:8080/"
        },
        "id": "h8V9qdfr5VLB",
        "outputId": "3d8475bc-95d7-44a1-8dea-e0778ea3bfee"
      },
      "execution_count": 67,
      "outputs": [
        {
          "output_type": "stream",
          "name": "stdout",
          "text": [
            "La probabilidad de que Xcliente se convierta en Churn es: No\n"
          ]
        }
      ]
    }
  ]
}